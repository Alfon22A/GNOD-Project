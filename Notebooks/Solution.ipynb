{
 "cells": [
  {
   "cell_type": "markdown",
   "id": "5570e277-2685-45d7-8854-d81d03a6d879",
   "metadata": {},
   "source": [
    "# Imports"
   ]
  },
  {
   "cell_type": "code",
   "execution_count": 402,
   "id": "345aa3e0-0109-496a-9202-b7307cdee80d",
   "metadata": {},
   "outputs": [],
   "source": [
    "import pandas as pd\n",
    "import numpy as np\n",
    "\n",
    "from time import sleep\n",
    "from random import randint\n",
    "\n",
    "import spotipy\n",
    "from spotipy.oauth2 import SpotifyClientCredentials\n",
    "from config import *"
   ]
  },
  {
   "cell_type": "markdown",
   "id": "71cd60dc-5125-4999-aedb-14e0dfb22b16",
   "metadata": {},
   "source": [
    "# Spotify API"
   ]
  },
  {
   "cell_type": "markdown",
   "id": "3daeac44-006e-4377-993a-dcfed37856ba",
   "metadata": {},
   "source": [
    "## Token"
   ]
  },
  {
   "cell_type": "code",
   "execution_count": 403,
   "id": "c5eb88e4-694c-4bb5-ab83-2ccf7b13d6af",
   "metadata": {},
   "outputs": [],
   "source": [
    "sp = spotipy.Spotify(auth_manager=SpotifyClientCredentials(client_id= Client_ID, client_secret= Client_Secret))"
   ]
  },
  {
   "cell_type": "markdown",
   "id": "e87048ae-40d1-4a74-b0ab-00d62d58d5c1",
   "metadata": {},
   "source": [
    "## Not Hot"
   ]
  },
  {
   "cell_type": "markdown",
   "id": "2938ccbe-702e-4fae-a63a-1a53ada8a071",
   "metadata": {},
   "source": [
    "### Request"
   ]
  },
  {
   "cell_type": "markdown",
   "id": "96ac2dff-e2b3-429e-8834-6d56a6e7aa83",
   "metadata": {
    "tags": []
   },
   "source": [
    "#### Function to get the data\n",
    "\n",
    "There seems to be a problem with some items that are not songs and make the function stop, we had to call it several times setting the offset 1 item after the stop."
   ]
  },
  {
   "cell_type": "code",
   "execution_count": 279,
   "id": "d2f06dbc-6942-4f8d-93f1-7c6a7b31efdc",
   "metadata": {},
   "outputs": [],
   "source": [
    "def analyze_playlist(creator, playlist_id, pages=5, start=0):\n",
    "    \n",
    "    playlist_columns = [\"Song\", \"Artist\", \"ID\", \"Link\", \"danceability\", \"energy\", \"key\", \"loudness\", \"mode\", \"speechiness\", \"instrumentalness\", \"liveness\", \"valence\", \"tempo\", \"duration_ms\", \"time_signature\"]\n",
    "    \n",
    "    playlist_df = pd.DataFrame(columns = playlist_columns)\n",
    "    \n",
    "    playlist = sp.user_playlist_tracks(creator, playlist_id, offset=start)\n",
    "    nap = randint(1,2)\n",
    "    for i in range(pages):\n",
    "        print(\"Page\",i+1)\n",
    "        try:\n",
    "            tracks = playlist[\"items\"]\n",
    "            for track in tracks:\n",
    "                playlist_features = {}\n",
    "                playlist_features[\"Song\"] = track[\"track\"][\"name\"]\n",
    "                playlist_features[\"Artist\"] = track[\"track\"][\"album\"][\"artists\"][0][\"name\"]\n",
    "                playlist_features[\"ID\"] = track[\"track\"][\"id\"]\n",
    "                playlist_features[\"Link\"] = track[\"track\"][\"external_urls\"][\"spotify\"]\n",
    "        \n",
    "                audio_features = sp.audio_features(playlist_features[\"ID\"])[0]\n",
    "                for feature in playlist_columns[4:]:\n",
    "                    playlist_features[feature] = audio_features[feature]\n",
    "        \n",
    "                track_df = pd.DataFrame(playlist_features, index = [0])\n",
    "                playlist_df = pd.concat([playlist_df, track_df], ignore_index = True)\n",
    "            playlist = sp.next(playlist)\n",
    "            \n",
    "        except:\n",
    "            continue\n",
    "        \n",
    "        print(\"Sleeping for\",nap,\"seconds\")\n",
    "        sleep(nap)\n",
    "    \n",
    "    playlist_df.columns = [\"Song\", \"Artist\", \"ID\", \"Link\", \"Danceability\", \"Energy\", \"Key\", \"Loudness\", \"Mode\", \"Speechiness\", \"Instrumentalness\", \"Liveness\", \"Valence\", \"Tempo\", \"Duration\", \"Time Signature\"]\n",
    "        \n",
    "    return playlist_df"
   ]
  },
  {
   "cell_type": "code",
   "execution_count": 104,
   "id": "a3143681-da46-41c5-b3cf-8654fd8dd3cd",
   "metadata": {
    "tags": []
   },
   "outputs": [
    {
     "name": "stdout",
     "output_type": "stream",
     "text": [
      "Page 1\n",
      "Sleeping for 2 seconds\n",
      "Page 2\n",
      "Sleeping for 2 seconds\n",
      "Page 3\n",
      "Sleeping for 2 seconds\n",
      "Page 4\n",
      "Sleeping for 2 seconds\n",
      "Page 5\n"
     ]
    },
    {
     "data": {
      "text/plain": [
       "467"
      ]
     },
     "execution_count": 104,
     "metadata": {},
     "output_type": "execute_result"
    }
   ],
   "source": [
    "not_hot_0 = analyze_playlist(\"acclaimed music\", \"1G8IpkZKobrIlXcVPoSIuf\", 5)\n",
    "not_hot_0[\"ID\"].nunique()"
   ]
  },
  {
   "cell_type": "code",
   "execution_count": 105,
   "id": "2cc77339-3ac6-4811-8d7f-8a7f273cecc9",
   "metadata": {},
   "outputs": [
    {
     "data": {
      "text/plain": [
       "468"
      ]
     },
     "execution_count": 105,
     "metadata": {},
     "output_type": "execute_result"
    }
   ],
   "source": [
    "skip1 = not_hot_0[\"ID\"].nunique() + 1\n",
    "skip1"
   ]
  },
  {
   "cell_type": "code",
   "execution_count": 106,
   "id": "5dbb513d-cb26-4c64-9f45-877640015772",
   "metadata": {},
   "outputs": [
    {
     "name": "stdout",
     "output_type": "stream",
     "text": [
      "Page 1\n",
      "Sleeping for 1 seconds\n",
      "Page 2\n",
      "Sleeping for 1 seconds\n",
      "Page 3\n",
      "Sleeping for 1 seconds\n",
      "Page 4\n",
      "Sleeping for 1 seconds\n",
      "Page 5\n",
      "Sleeping for 1 seconds\n",
      "Page 6\n",
      "Sleeping for 1 seconds\n",
      "Page 7\n",
      "Sleeping for 1 seconds\n",
      "Page 8\n",
      "Sleeping for 1 seconds\n",
      "Page 9\n",
      "Sleeping for 1 seconds\n",
      "Page 10\n",
      "Sleeping for 1 seconds\n"
     ]
    },
    {
     "data": {
      "text/plain": [
       "1000"
      ]
     },
     "execution_count": 106,
     "metadata": {},
     "output_type": "execute_result"
    }
   ],
   "source": [
    "not_hot_1 = analyze_playlist(\"acclaimed music\", \"1G8IpkZKobrIlXcVPoSIuf\", 10, skip1)\n",
    "not_hot_1[\"ID\"].nunique()"
   ]
  },
  {
   "cell_type": "code",
   "execution_count": 107,
   "id": "d2ecea45-6861-4e2b-a73b-1008222d311c",
   "metadata": {},
   "outputs": [
    {
     "data": {
      "text/plain": [
       "1469"
      ]
     },
     "execution_count": 107,
     "metadata": {},
     "output_type": "execute_result"
    }
   ],
   "source": [
    "skip2 = skip1 + not_hot_1[\"ID\"].nunique() + 1\n",
    "skip2"
   ]
  },
  {
   "cell_type": "code",
   "execution_count": 108,
   "id": "634c5609-0355-47a1-b3f5-f88d29a046fe",
   "metadata": {},
   "outputs": [
    {
     "name": "stdout",
     "output_type": "stream",
     "text": [
      "Page 1\n",
      "Sleeping for 1 seconds\n",
      "Page 2\n",
      "Sleeping for 1 seconds\n",
      "Page 3\n",
      "Sleeping for 1 seconds\n",
      "Page 4\n",
      "Sleeping for 1 seconds\n",
      "Page 5\n",
      "Sleeping for 1 seconds\n",
      "Page 6\n",
      "Sleeping for 1 seconds\n",
      "Page 7\n",
      "Sleeping for 1 seconds\n",
      "Page 8\n",
      "Sleeping for 1 seconds\n",
      "Page 9\n",
      "Sleeping for 1 seconds\n",
      "Page 10\n",
      "Sleeping for 1 seconds\n"
     ]
    },
    {
     "data": {
      "text/plain": [
       "1000"
      ]
     },
     "execution_count": 108,
     "metadata": {},
     "output_type": "execute_result"
    }
   ],
   "source": [
    "not_hot_2 = analyze_playlist(\"acclaimed music\", \"1G8IpkZKobrIlXcVPoSIuf\", 10, skip2)\n",
    "not_hot_2[\"ID\"].nunique()"
   ]
  },
  {
   "cell_type": "code",
   "execution_count": 109,
   "id": "a79ffa6a-35b1-43fc-9225-c05f2dfb09a8",
   "metadata": {},
   "outputs": [
    {
     "data": {
      "text/plain": [
       "2470"
      ]
     },
     "execution_count": 109,
     "metadata": {},
     "output_type": "execute_result"
    }
   ],
   "source": [
    "skip3 = skip2 + not_hot_2[\"ID\"].nunique() + 1\n",
    "skip3"
   ]
  },
  {
   "cell_type": "code",
   "execution_count": 110,
   "id": "571fb5f5-dee4-4c75-a6e9-fa291651e163",
   "metadata": {},
   "outputs": [
    {
     "name": "stdout",
     "output_type": "stream",
     "text": [
      "Page 1\n",
      "Sleeping for 1 seconds\n",
      "Page 2\n"
     ]
    },
    {
     "data": {
      "text/plain": [
       "188"
      ]
     },
     "execution_count": 110,
     "metadata": {},
     "output_type": "execute_result"
    }
   ],
   "source": [
    "not_hot_3 = analyze_playlist(\"acclaimed music\", \"1G8IpkZKobrIlXcVPoSIuf\", 2, skip3)\n",
    "not_hot_3[\"ID\"].nunique()"
   ]
  },
  {
   "cell_type": "code",
   "execution_count": 111,
   "id": "321f2cba-d3e9-4c46-81d0-f12e836402d5",
   "metadata": {},
   "outputs": [
    {
     "data": {
      "text/plain": [
       "2659"
      ]
     },
     "execution_count": 111,
     "metadata": {},
     "output_type": "execute_result"
    }
   ],
   "source": [
    "skip4 = skip3 + not_hot_3[\"ID\"].nunique() + 1\n",
    "skip4"
   ]
  },
  {
   "cell_type": "code",
   "execution_count": 280,
   "id": "b669d553-3a62-40f0-b501-011e45c5d127",
   "metadata": {},
   "outputs": [
    {
     "name": "stdout",
     "output_type": "stream",
     "text": [
      "Page 1\n"
     ]
    },
    {
     "data": {
      "text/plain": [
       "12"
      ]
     },
     "execution_count": 280,
     "metadata": {},
     "output_type": "execute_result"
    }
   ],
   "source": [
    "not_hot_4 = analyze_playlist(\"acclaimed music\", \"1G8IpkZKobrIlXcVPoSIuf\", 1, skip4)\n",
    "not_hot_4[\"ID\"].nunique()"
   ]
  },
  {
   "cell_type": "code",
   "execution_count": 130,
   "id": "4251b6e1-8f39-42e6-8589-dff243e0d640",
   "metadata": {},
   "outputs": [
    {
     "data": {
      "text/plain": [
       "2672"
      ]
     },
     "execution_count": 130,
     "metadata": {},
     "output_type": "execute_result"
    }
   ],
   "source": [
    "skip5 = skip4 + not_hot_4[\"ID\"].nunique() + 1\n",
    "skip5"
   ]
  },
  {
   "cell_type": "code",
   "execution_count": 131,
   "id": "c63fa34a-09bd-412a-9b2c-bf4f7a9381b6",
   "metadata": {},
   "outputs": [
    {
     "name": "stdout",
     "output_type": "stream",
     "text": [
      "Page 1\n",
      "Sleeping for 1 seconds\n",
      "Page 2\n",
      "Sleeping for 1 seconds\n",
      "Page 3\n",
      "Sleeping for 1 seconds\n",
      "Page 4\n"
     ]
    },
    {
     "data": {
      "text/plain": [
       "307"
      ]
     },
     "execution_count": 131,
     "metadata": {},
     "output_type": "execute_result"
    }
   ],
   "source": [
    "not_hot_5 = analyze_playlist(\"acclaimed music\", \"1G8IpkZKobrIlXcVPoSIuf\", 4, skip5)\n",
    "not_hot_5[\"ID\"].nunique()"
   ]
  },
  {
   "cell_type": "code",
   "execution_count": 132,
   "id": "e3532920-8aaf-4623-8275-125a83b01886",
   "metadata": {},
   "outputs": [
    {
     "data": {
      "text/plain": [
       "2980"
      ]
     },
     "execution_count": 132,
     "metadata": {},
     "output_type": "execute_result"
    }
   ],
   "source": [
    "skip6 = skip5 + not_hot_5[\"ID\"].nunique() + 1\n",
    "skip6"
   ]
  },
  {
   "cell_type": "code",
   "execution_count": 134,
   "id": "cda75c7f-c697-4cc7-b992-de7855d27961",
   "metadata": {},
   "outputs": [
    {
     "name": "stdout",
     "output_type": "stream",
     "text": [
      "Page 1\n",
      "Sleeping for 1 seconds\n",
      "Page 2\n",
      "Sleeping for 1 seconds\n",
      "Page 3\n",
      "Sleeping for 1 seconds\n",
      "Page 4\n",
      "Sleeping for 1 seconds\n",
      "Page 5\n"
     ]
    },
    {
     "data": {
      "text/plain": [
       "407"
      ]
     },
     "execution_count": 134,
     "metadata": {},
     "output_type": "execute_result"
    }
   ],
   "source": [
    "not_hot_6 = analyze_playlist(\"acclaimed music\", \"1G8IpkZKobrIlXcVPoSIuf\", 5, skip6)\n",
    "not_hot_6[\"ID\"].nunique()"
   ]
  },
  {
   "cell_type": "code",
   "execution_count": 135,
   "id": "c1f6de42-3ce3-4558-b6c8-defbb47fd22e",
   "metadata": {},
   "outputs": [
    {
     "data": {
      "text/plain": [
       "3388"
      ]
     },
     "execution_count": 135,
     "metadata": {},
     "output_type": "execute_result"
    }
   ],
   "source": [
    "skip7 = skip6 + not_hot_6[\"ID\"].nunique() + 1\n",
    "skip7"
   ]
  },
  {
   "cell_type": "code",
   "execution_count": 138,
   "id": "f90fd1f2-8686-4c7f-923c-471f20dbc9cc",
   "metadata": {},
   "outputs": [
    {
     "name": "stdout",
     "output_type": "stream",
     "text": [
      "Page 1\n"
     ]
    },
    {
     "data": {
      "text/plain": [
       "82"
      ]
     },
     "execution_count": 138,
     "metadata": {},
     "output_type": "execute_result"
    }
   ],
   "source": [
    "not_hot_7 = analyze_playlist(\"acclaimed music\", \"1G8IpkZKobrIlXcVPoSIuf\", 1, skip7)\n",
    "not_hot_7[\"ID\"].nunique()"
   ]
  },
  {
   "cell_type": "code",
   "execution_count": 139,
   "id": "0fb9c21b-bf92-4da0-a3a6-b447f20abadb",
   "metadata": {},
   "outputs": [
    {
     "data": {
      "text/plain": [
       "3471"
      ]
     },
     "execution_count": 139,
     "metadata": {},
     "output_type": "execute_result"
    }
   ],
   "source": [
    "skip8 = skip7 + not_hot_7[\"ID\"].nunique() + 1\n",
    "skip8"
   ]
  },
  {
   "cell_type": "code",
   "execution_count": 140,
   "id": "eb34fbd0-bd7c-4bdd-857c-c08e5ea8180a",
   "metadata": {},
   "outputs": [
    {
     "name": "stdout",
     "output_type": "stream",
     "text": [
      "Page 1\n",
      "Sleeping for 1 seconds\n",
      "Page 2\n"
     ]
    },
    {
     "data": {
      "text/plain": [
       "169"
      ]
     },
     "execution_count": 140,
     "metadata": {},
     "output_type": "execute_result"
    }
   ],
   "source": [
    "not_hot_8 = analyze_playlist(\"acclaimed music\", \"1G8IpkZKobrIlXcVPoSIuf\", 2, skip8)\n",
    "not_hot_8[\"ID\"].nunique()"
   ]
  },
  {
   "cell_type": "code",
   "execution_count": 141,
   "id": "2d449d3a-0c5c-4128-b355-bcfc795f0d95",
   "metadata": {},
   "outputs": [
    {
     "data": {
      "text/plain": [
       "3641"
      ]
     },
     "execution_count": 141,
     "metadata": {},
     "output_type": "execute_result"
    }
   ],
   "source": [
    "skip9 = skip8 + not_hot_8[\"ID\"].nunique() + 1\n",
    "skip9"
   ]
  },
  {
   "cell_type": "code",
   "execution_count": 153,
   "id": "c79c7ef3-6f92-48d5-9e67-e99225dc1e25",
   "metadata": {},
   "outputs": [
    {
     "name": "stdout",
     "output_type": "stream",
     "text": [
      "Page 1\n"
     ]
    },
    {
     "data": {
      "text/plain": [
       "43"
      ]
     },
     "execution_count": 153,
     "metadata": {},
     "output_type": "execute_result"
    }
   ],
   "source": [
    "not_hot_9 = analyze_playlist(\"acclaimed music\", \"1G8IpkZKobrIlXcVPoSIuf\", 1, skip9)\n",
    "not_hot_9[\"ID\"].nunique()"
   ]
  },
  {
   "cell_type": "markdown",
   "id": "6fe46228-c2db-4834-abc3-53393f7fa878",
   "metadata": {},
   "source": [
    "### Concat and save"
   ]
  },
  {
   "cell_type": "code",
   "execution_count": 150,
   "id": "708013cc-7848-4164-a455-3187e63c78bc",
   "metadata": {},
   "outputs": [
    {
     "data": {
      "text/html": [
       "<div>\n",
       "<style scoped>\n",
       "    .dataframe tbody tr th:only-of-type {\n",
       "        vertical-align: middle;\n",
       "    }\n",
       "\n",
       "    .dataframe tbody tr th {\n",
       "        vertical-align: top;\n",
       "    }\n",
       "\n",
       "    .dataframe thead th {\n",
       "        text-align: right;\n",
       "    }\n",
       "</style>\n",
       "<table border=\"1\" class=\"dataframe\">\n",
       "  <thead>\n",
       "    <tr style=\"text-align: right;\">\n",
       "      <th></th>\n",
       "      <th>Song</th>\n",
       "      <th>Artist</th>\n",
       "      <th>ID</th>\n",
       "      <th>Link</th>\n",
       "      <th>Danceability</th>\n",
       "      <th>Energy</th>\n",
       "      <th>Key</th>\n",
       "      <th>Loudness</th>\n",
       "      <th>Mode</th>\n",
       "      <th>Speechiness</th>\n",
       "      <th>Instrumentalness</th>\n",
       "      <th>Liveness</th>\n",
       "      <th>Valence</th>\n",
       "      <th>Tempo</th>\n",
       "      <th>Duration</th>\n",
       "      <th>Time Signature</th>\n",
       "    </tr>\n",
       "  </thead>\n",
       "  <tbody>\n",
       "    <tr>\n",
       "      <th>0</th>\n",
       "      <td>Like a Rolling Stone</td>\n",
       "      <td>Bob Dylan</td>\n",
       "      <td>3AhXZa8sUQht0UEdBJgpGc</td>\n",
       "      <td>https://open.spotify.com/track/3AhXZa8sUQht0UE...</td>\n",
       "      <td>0.482</td>\n",
       "      <td>0.721</td>\n",
       "      <td>0</td>\n",
       "      <td>-6.839</td>\n",
       "      <td>1</td>\n",
       "      <td>0.0321</td>\n",
       "      <td>0</td>\n",
       "      <td>0.189</td>\n",
       "      <td>0.557</td>\n",
       "      <td>95.263</td>\n",
       "      <td>369600</td>\n",
       "      <td>4</td>\n",
       "    </tr>\n",
       "    <tr>\n",
       "      <th>1</th>\n",
       "      <td>Smells Like Teen Spirit</td>\n",
       "      <td>Nirvana</td>\n",
       "      <td>3oTlkzk1OtrhH8wBAduVEi</td>\n",
       "      <td>https://open.spotify.com/track/3oTlkzk1OtrhH8w...</td>\n",
       "      <td>0.485</td>\n",
       "      <td>0.863</td>\n",
       "      <td>1</td>\n",
       "      <td>-9.027</td>\n",
       "      <td>1</td>\n",
       "      <td>0.0495</td>\n",
       "      <td>0.0162</td>\n",
       "      <td>0.138</td>\n",
       "      <td>0.767</td>\n",
       "      <td>116.835</td>\n",
       "      <td>300977</td>\n",
       "      <td>4</td>\n",
       "    </tr>\n",
       "    <tr>\n",
       "      <th>2</th>\n",
       "      <td>A Day In The Life - Remastered</td>\n",
       "      <td>The Beatles</td>\n",
       "      <td>3ZFBeIyP41HhnALjxWy1pR</td>\n",
       "      <td>https://open.spotify.com/track/3ZFBeIyP41HhnAL...</td>\n",
       "      <td>0.364</td>\n",
       "      <td>0.457</td>\n",
       "      <td>4</td>\n",
       "      <td>-14.162</td>\n",
       "      <td>0</td>\n",
       "      <td>0.0675</td>\n",
       "      <td>0.000106</td>\n",
       "      <td>0.922</td>\n",
       "      <td>0.175</td>\n",
       "      <td>163.219</td>\n",
       "      <td>337413</td>\n",
       "      <td>4</td>\n",
       "    </tr>\n",
       "    <tr>\n",
       "      <th>3</th>\n",
       "      <td>Good Vibrations (Mono)</td>\n",
       "      <td>The Beach Boys</td>\n",
       "      <td>5Qt4Cc66g24QWwGP3YYV9y</td>\n",
       "      <td>https://open.spotify.com/track/5Qt4Cc66g24QWwG...</td>\n",
       "      <td>0.398</td>\n",
       "      <td>0.413</td>\n",
       "      <td>1</td>\n",
       "      <td>-10.934</td>\n",
       "      <td>1</td>\n",
       "      <td>0.0388</td>\n",
       "      <td>0.000025</td>\n",
       "      <td>0.0891</td>\n",
       "      <td>0.331</td>\n",
       "      <td>133.574</td>\n",
       "      <td>219147</td>\n",
       "      <td>4</td>\n",
       "    </tr>\n",
       "    <tr>\n",
       "      <th>4</th>\n",
       "      <td>Johnny B Goode</td>\n",
       "      <td>Chuck Berry</td>\n",
       "      <td>7MH2ZclofPlTrZOkPzZKhK</td>\n",
       "      <td>https://open.spotify.com/track/7MH2ZclofPlTrZO...</td>\n",
       "      <td>0.518</td>\n",
       "      <td>0.756</td>\n",
       "      <td>10</td>\n",
       "      <td>-10.851</td>\n",
       "      <td>1</td>\n",
       "      <td>0.0915</td>\n",
       "      <td>0.000062</td>\n",
       "      <td>0.317</td>\n",
       "      <td>0.968</td>\n",
       "      <td>166.429</td>\n",
       "      <td>160893</td>\n",
       "      <td>4</td>\n",
       "    </tr>\n",
       "    <tr>\n",
       "      <th>...</th>\n",
       "      <td>...</td>\n",
       "      <td>...</td>\n",
       "      <td>...</td>\n",
       "      <td>...</td>\n",
       "      <td>...</td>\n",
       "      <td>...</td>\n",
       "      <td>...</td>\n",
       "      <td>...</td>\n",
       "      <td>...</td>\n",
       "      <td>...</td>\n",
       "      <td>...</td>\n",
       "      <td>...</td>\n",
       "      <td>...</td>\n",
       "      <td>...</td>\n",
       "      <td>...</td>\n",
       "      <td>...</td>\n",
       "    </tr>\n",
       "    <tr>\n",
       "      <th>38</th>\n",
       "      <td>I Don't Like</td>\n",
       "      <td>Chief Keef</td>\n",
       "      <td>1h6kgem1ai8vUgO1rZOwfB</td>\n",
       "      <td>https://open.spotify.com/track/1h6kgem1ai8vUgO...</td>\n",
       "      <td>0.742</td>\n",
       "      <td>0.844</td>\n",
       "      <td>2</td>\n",
       "      <td>-4.622</td>\n",
       "      <td>1</td>\n",
       "      <td>0.0479</td>\n",
       "      <td>0</td>\n",
       "      <td>0.0659</td>\n",
       "      <td>0.416</td>\n",
       "      <td>131.986</td>\n",
       "      <td>293840</td>\n",
       "      <td>4</td>\n",
       "    </tr>\n",
       "    <tr>\n",
       "      <th>39</th>\n",
       "      <td>Happy - From \"Despicable Me 2\"</td>\n",
       "      <td>Pharrell Williams</td>\n",
       "      <td>5b88tNINg4Q4nrRbrCXUmg</td>\n",
       "      <td>https://open.spotify.com/track/5b88tNINg4Q4nrR...</td>\n",
       "      <td>0.647</td>\n",
       "      <td>0.822</td>\n",
       "      <td>5</td>\n",
       "      <td>-4.662</td>\n",
       "      <td>0</td>\n",
       "      <td>0.183</td>\n",
       "      <td>0</td>\n",
       "      <td>0.0908</td>\n",
       "      <td>0.962</td>\n",
       "      <td>160.019</td>\n",
       "      <td>232720</td>\n",
       "      <td>4</td>\n",
       "    </tr>\n",
       "    <tr>\n",
       "      <th>40</th>\n",
       "      <td>Express Yourself - Remastered Version</td>\n",
       "      <td>Charles Wright &amp; The Watts 103rd Street Rhythm...</td>\n",
       "      <td>6gQZKkphKIMxZgca5r7ImA</td>\n",
       "      <td>https://open.spotify.com/track/6gQZKkphKIMxZgc...</td>\n",
       "      <td>0.461</td>\n",
       "      <td>0.818</td>\n",
       "      <td>8</td>\n",
       "      <td>-8.482</td>\n",
       "      <td>1</td>\n",
       "      <td>0.125</td>\n",
       "      <td>0</td>\n",
       "      <td>0.266</td>\n",
       "      <td>0.721</td>\n",
       "      <td>92.305</td>\n",
       "      <td>229653</td>\n",
       "      <td>4</td>\n",
       "    </tr>\n",
       "    <tr>\n",
       "      <th>41</th>\n",
       "      <td>Call Me The Breeze</td>\n",
       "      <td>J.J. Cale</td>\n",
       "      <td>0D4JiHE8NkSQa5ZdZkYYLw</td>\n",
       "      <td>https://open.spotify.com/track/0D4JiHE8NkSQa5Z...</td>\n",
       "      <td>0.815</td>\n",
       "      <td>0.415</td>\n",
       "      <td>11</td>\n",
       "      <td>-15.573</td>\n",
       "      <td>1</td>\n",
       "      <td>0.0384</td>\n",
       "      <td>0.012</td>\n",
       "      <td>0.0943</td>\n",
       "      <td>0.817</td>\n",
       "      <td>91.539</td>\n",
       "      <td>157617</td>\n",
       "      <td>4</td>\n",
       "    </tr>\n",
       "    <tr>\n",
       "      <th>42</th>\n",
       "      <td>People Who Died</td>\n",
       "      <td>The Jim Carroll Band</td>\n",
       "      <td>6taFIgW5YE94x1icBh5vTg</td>\n",
       "      <td>https://open.spotify.com/track/6taFIgW5YE94x1i...</td>\n",
       "      <td>0.315</td>\n",
       "      <td>0.635</td>\n",
       "      <td>5</td>\n",
       "      <td>-11.883</td>\n",
       "      <td>0</td>\n",
       "      <td>0.0681</td>\n",
       "      <td>0.000244</td>\n",
       "      <td>0.128</td>\n",
       "      <td>0.933</td>\n",
       "      <td>190.508</td>\n",
       "      <td>298613</td>\n",
       "      <td>4</td>\n",
       "    </tr>\n",
       "  </tbody>\n",
       "</table>\n",
       "<p>3675 rows × 16 columns</p>\n",
       "</div>"
      ],
      "text/plain": [
       "                                     Song  \\\n",
       "0                    Like a Rolling Stone   \n",
       "1                 Smells Like Teen Spirit   \n",
       "2          A Day In The Life - Remastered   \n",
       "3                  Good Vibrations (Mono)   \n",
       "4                          Johnny B Goode   \n",
       "..                                    ...   \n",
       "38                           I Don't Like   \n",
       "39         Happy - From \"Despicable Me 2\"   \n",
       "40  Express Yourself - Remastered Version   \n",
       "41                     Call Me The Breeze   \n",
       "42                        People Who Died   \n",
       "\n",
       "                                               Artist                      ID  \\\n",
       "0                                           Bob Dylan  3AhXZa8sUQht0UEdBJgpGc   \n",
       "1                                             Nirvana  3oTlkzk1OtrhH8wBAduVEi   \n",
       "2                                         The Beatles  3ZFBeIyP41HhnALjxWy1pR   \n",
       "3                                      The Beach Boys  5Qt4Cc66g24QWwGP3YYV9y   \n",
       "4                                         Chuck Berry  7MH2ZclofPlTrZOkPzZKhK   \n",
       "..                                                ...                     ...   \n",
       "38                                         Chief Keef  1h6kgem1ai8vUgO1rZOwfB   \n",
       "39                                  Pharrell Williams  5b88tNINg4Q4nrRbrCXUmg   \n",
       "40  Charles Wright & The Watts 103rd Street Rhythm...  6gQZKkphKIMxZgca5r7ImA   \n",
       "41                                          J.J. Cale  0D4JiHE8NkSQa5ZdZkYYLw   \n",
       "42                               The Jim Carroll Band  6taFIgW5YE94x1icBh5vTg   \n",
       "\n",
       "                                                 Link Danceability Energy Key  \\\n",
       "0   https://open.spotify.com/track/3AhXZa8sUQht0UE...        0.482  0.721   0   \n",
       "1   https://open.spotify.com/track/3oTlkzk1OtrhH8w...        0.485  0.863   1   \n",
       "2   https://open.spotify.com/track/3ZFBeIyP41HhnAL...        0.364  0.457   4   \n",
       "3   https://open.spotify.com/track/5Qt4Cc66g24QWwG...        0.398  0.413   1   \n",
       "4   https://open.spotify.com/track/7MH2ZclofPlTrZO...        0.518  0.756  10   \n",
       "..                                                ...          ...    ...  ..   \n",
       "38  https://open.spotify.com/track/1h6kgem1ai8vUgO...        0.742  0.844   2   \n",
       "39  https://open.spotify.com/track/5b88tNINg4Q4nrR...        0.647  0.822   5   \n",
       "40  https://open.spotify.com/track/6gQZKkphKIMxZgc...        0.461  0.818   8   \n",
       "41  https://open.spotify.com/track/0D4JiHE8NkSQa5Z...        0.815  0.415  11   \n",
       "42  https://open.spotify.com/track/6taFIgW5YE94x1i...        0.315  0.635   5   \n",
       "\n",
       "   Loudness Mode Speechiness Instrumentalness Liveness Valence    Tempo  \\\n",
       "0    -6.839    1      0.0321                0    0.189   0.557   95.263   \n",
       "1    -9.027    1      0.0495           0.0162    0.138   0.767  116.835   \n",
       "2   -14.162    0      0.0675         0.000106    0.922   0.175  163.219   \n",
       "3   -10.934    1      0.0388         0.000025   0.0891   0.331  133.574   \n",
       "4   -10.851    1      0.0915         0.000062    0.317   0.968  166.429   \n",
       "..      ...  ...         ...              ...      ...     ...      ...   \n",
       "38   -4.622    1      0.0479                0   0.0659   0.416  131.986   \n",
       "39   -4.662    0       0.183                0   0.0908   0.962  160.019   \n",
       "40   -8.482    1       0.125                0    0.266   0.721   92.305   \n",
       "41  -15.573    1      0.0384            0.012   0.0943   0.817   91.539   \n",
       "42  -11.883    0      0.0681         0.000244    0.128   0.933  190.508   \n",
       "\n",
       "   Duration Time Signature  \n",
       "0    369600              4  \n",
       "1    300977              4  \n",
       "2    337413              4  \n",
       "3    219147              4  \n",
       "4    160893              4  \n",
       "..      ...            ...  \n",
       "38   293840              4  \n",
       "39   232720              4  \n",
       "40   229653              4  \n",
       "41   157617              4  \n",
       "42   298613              4  \n",
       "\n",
       "[3675 rows x 16 columns]"
      ]
     },
     "execution_count": 150,
     "metadata": {},
     "output_type": "execute_result"
    }
   ],
   "source": [
    "not_hot = pd.concat([not_hot_0, not_hot_1, not_hot_2, not_hot_3, not_hot_4, not_hot_5, not_hot_6, not_hot_7, not_hot_8, not_hot_9])\n",
    "not_hot"
   ]
  },
  {
   "cell_type": "code",
   "execution_count": 151,
   "id": "3b0f045f-8555-45a8-87f3-26da3c21aeea",
   "metadata": {},
   "outputs": [
    {
     "data": {
      "text/plain": [
       "3675"
      ]
     },
     "execution_count": 151,
     "metadata": {},
     "output_type": "execute_result"
    }
   ],
   "source": [
    "not_hot[\"ID\"].nunique()"
   ]
  },
  {
   "cell_type": "code",
   "execution_count": 152,
   "id": "55b75144-d3f8-42d1-a892-6341c49f214d",
   "metadata": {},
   "outputs": [],
   "source": [
    "not_hot.to_csv(\"Not_Hot.csv\")"
   ]
  },
  {
   "cell_type": "markdown",
   "id": "ec69592e-7ffd-41e4-8ad3-a651dd34bfe6",
   "metadata": {},
   "source": [
    "## Search Function"
   ]
  },
  {
   "cell_type": "code",
   "execution_count": 383,
   "id": "3702d07c-c8d9-40d2-bf8c-1cf20250cbeb",
   "metadata": {},
   "outputs": [],
   "source": [
    "def search_song():\n",
    "    print(\"Please write a song name:\")\n",
    "    song = input()\n",
    "    results = sp.search(q=song, limit = 5)\n",
    "    for track in results[\"tracks\"][\"items\"]:\n",
    "        print(\"Song:\",track[\"name\"])\n",
    "        print(\"Artist:\",track[\"artists\"][0][\"name\"])\n",
    "        print(\"Album:\",track[\"album\"][\"name\"])\n",
    "        print(\"ID:\",track[\"id\"])\n",
    "        print(\"Link:\",track[\"external_urls\"][\"spotify\"])\n",
    "        print(\"\\n\")"
   ]
  },
  {
   "cell_type": "code",
   "execution_count": 404,
   "id": "bca815f5-649f-4d13-91d5-fc4a1621430f",
   "metadata": {
    "tags": []
   },
   "outputs": [
    {
     "name": "stdout",
     "output_type": "stream",
     "text": [
      "Please write a song name:\n"
     ]
    },
    {
     "name": "stdin",
     "output_type": "stream",
     "text": [
      " Angst\n"
     ]
    },
    {
     "name": "stdout",
     "output_type": "stream",
     "text": [
      "Song: Angst\n",
      "Artist: Rammstein\n",
      "Album: Zeit\n",
      "ID: 0UuNO0yYvsMPlyLF7RfQlg\n",
      "Link: https://open.spotify.com/track/0UuNO0yYvsMPlyLF7RfQlg\n",
      "\n",
      "\n",
      "Song: Angst\n",
      "Artist: INZO\n",
      "Album: Angst\n",
      "ID: 3NivHilTTTs8SQwp51yG0X\n",
      "Link: https://open.spotify.com/track/3NivHilTTTs8SQwp51yG0X\n",
      "\n",
      "\n",
      "Song: Teen Angst (What The World Needs Now)\n",
      "Artist: Cracker\n",
      "Album: Cracker\n",
      "ID: 21gRGP5LdIgto8sznRZ7xz\n",
      "Link: https://open.spotify.com/track/21gRGP5LdIgto8sznRZ7xz\n",
      "\n",
      "\n",
      "Song: ANGST II\n",
      "Artist: MESSIAH!\n",
      "Album: ANGST II\n",
      "ID: 09lgtisfbv0A7IdGAHGrOS\n",
      "Link: https://open.spotify.com/track/09lgtisfbv0A7IdGAHGrOS\n",
      "\n",
      "\n",
      "Song: The Kids Need Guns\n",
      "Artist: The Chats\n",
      "Album: High Risk Behaviour\n",
      "ID: 2OtT9HoHPGUsiDzCB420NI\n",
      "Link: https://open.spotify.com/track/2OtT9HoHPGUsiDzCB420NI\n",
      "\n",
      "\n"
     ]
    }
   ],
   "source": [
    "search_song()"
   ]
  },
  {
   "cell_type": "markdown",
   "id": "8cc4c741-71e7-4daa-9cbb-01e75d4e397c",
   "metadata": {},
   "source": [
    "## Hot 100 Dataset"
   ]
  },
  {
   "cell_type": "markdown",
   "id": "f76af6a8-6412-4a08-932b-d69439d8a1bd",
   "metadata": {},
   "source": [
    "### Cleaning\n",
    "\n",
    "SpotiPy doesn't like colabs, so we are getting only the main artist and also getting rid of \"'\" as it doesn't like them either."
   ]
  },
  {
   "cell_type": "code",
   "execution_count": 396,
   "id": "766e0a97-ab8d-449f-bcb5-4fa4339e866d",
   "metadata": {},
   "outputs": [],
   "source": [
    "hot_100[\"Artist\"] = [artist[0] for artist in [artist.split(\"Featuring\") for artist in hot_100[\"Artist\"]]]\n",
    "hot_100[\"Artist\"] = [artist[0] for artist in [artist.split(\",\") for artist in hot_100[\"Artist\"]]]\n",
    "hot_100[\"Artist\"] = [artist[0] for artist in [artist.split(\"&\") for artist in hot_100_test[\"Artist\"]]]\n",
    "hot_100[\"Artist\"] = [artist[0] for artist in [artist.split(\"With\") for artist in hot_100_test[\"Artist\"]]]\n",
    "hot_100[\"Song\"] = [song.replace(\"'\",\"\") for song in hot_100[\"Song\"]]"
   ]
  },
  {
   "cell_type": "markdown",
   "id": "bd31858d-c571-4a7b-bf53-a98f38035917",
   "metadata": {},
   "source": [
    "### Slicing\n",
    "\n",
    "We divide the Dataframe so we don't get banned."
   ]
  },
  {
   "cell_type": "code",
   "execution_count": 316,
   "id": "d115a8dd-8b8e-4750-af88-a18a78f48a00",
   "metadata": {},
   "outputs": [],
   "source": [
    "def slice_in_4(df):\n",
    "    rows = df.shape[0]\n",
    "    df1 = df.iloc[:int((rows/4))]\n",
    "    df2 = df.iloc[int(rows/4):int((rows/2))]\n",
    "    df3 = df.iloc[int(rows/2):int(((rows/4)*3))]\n",
    "    df4 = df.iloc[int(((rows/4)*3)):]\n",
    "    return df1, df2, df3, df4"
   ]
  },
  {
   "cell_type": "markdown",
   "id": "4d59ce00-c7f6-4477-ac1d-9097083cea72",
   "metadata": {
    "tags": []
   },
   "source": [
    "hot_100_0, hot_100_1, hot_100_2, hot_100_3 = slice_in_4(hot_100)"
   ]
  },
  {
   "cell_type": "markdown",
   "id": "45939c11-ec2f-4b6a-906e-ab99fafdbe0d",
   "metadata": {},
   "source": [
    "### Function\n",
    "\n",
    "This asks for data using the song and artist combo to be accurate."
   ]
  },
  {
   "cell_type": "code",
   "execution_count": 374,
   "id": "4046ff18-a781-42ea-b50a-0237cb4fc22e",
   "metadata": {},
   "outputs": [],
   "source": [
    "def get_audio_features(df):\n",
    "    \n",
    "    playlist_columns = [\"Song\", \"Artist\", \"ID\", \"Link\", \"danceability\", \"energy\", \"key\", \"loudness\", \"mode\", \"speechiness\", \"instrumentalness\", \"liveness\", \"valence\", \"tempo\", \"duration_ms\", \"time_signature\"]\n",
    "    playlist_df = pd.DataFrame(columns = playlist_columns)\n",
    "    songs = df[\"Song\"].tolist()\n",
    "    artists = df[\"Artist\"].tolist()\n",
    "\n",
    "    for song, artist in zip(songs, artists):\n",
    "        \n",
    "        print(\"Getting info for song\",song,\"by\",artist)\n",
    "        track = sp.search(q=\"artist:\" + artist + \" track:\" + song, type=\"track\")\n",
    "        playlist_features = {}\n",
    "        playlist_features[\"Song\"] = track[\"tracks\"][\"items\"][0][\"name\"]\n",
    "        playlist_features[\"Artist\"] = track[\"tracks\"][\"items\"][0][\"artists\"][0][\"name\"]\n",
    "        playlist_features[\"ID\"] = track[\"tracks\"][\"items\"][0][\"id\"]\n",
    "        playlist_features[\"Link\"] = track[\"tracks\"][\"items\"][0][\"external_urls\"][\"spotify\"]\n",
    "        \n",
    "        audio_features = sp.audio_features(playlist_features[\"ID\"])[0]\n",
    "        for feature in playlist_columns[4:]:\n",
    "                playlist_features[feature] = audio_features[feature]\n",
    "                    \n",
    "        track_df = pd.DataFrame(playlist_features, index = [0])\n",
    "        playlist_df = pd.concat([playlist_df, track_df], ignore_index = True)\n",
    "        \n",
    "        nap = randint(2,3)    \n",
    "        print(\"Sleeping for\",nap,\"seconds\")\n",
    "        sleep(nap)\n",
    "            \n",
    "    playlist_df.columns = [\"Song\", \"Artist\", \"ID\", \"Link\", \"Danceability\", \"Energy\", \"Key\", \"Loudness\", \"Mode\", \"Speechiness\", \"Instrumentalness\", \"Liveness\", \"Valence\", \"Tempo\", \"Duration\", \"Time Signature\"]\n",
    "    \n",
    "    return playlist_df"
   ]
  },
  {
   "cell_type": "code",
   "execution_count": 369,
   "id": "06076bb1-e508-4635-9b17-fe525f275028",
   "metadata": {
    "collapsed": true,
    "jupyter": {
     "outputs_hidden": true
    },
    "tags": []
   },
   "outputs": [
    {
     "name": "stdout",
     "output_type": "stream",
     "text": [
      "Getting info for song Break My Soul by Beyonce\n",
      "Sleeping for 3 seconds\n",
      "Getting info for song As It Was by Harry Styles\n",
      "Sleeping for 3 seconds\n",
      "Getting info for song About Damn Time by Lizzo\n",
      "Sleeping for 3 seconds\n",
      "Getting info for song Running Up That Hill (A Deal With God) by Kate Bush\n",
      "Sleeping for 3 seconds\n",
      "Getting info for song Staying Alive by DJ Khaled \n",
      "Sleeping for 3 seconds\n",
      "Getting info for song Bad Habit by Steve Lacy\n",
      "Sleeping for 3 seconds\n",
      "Getting info for song Wait For U by Future \n",
      "Sleeping for 3 seconds\n",
      "Getting info for song Sunroof by Nicky Youre \n",
      "Sleeping for 3 seconds\n",
      "Getting info for song First Class by Jack Harlow\n",
      "Sleeping for 3 seconds\n",
      "Getting info for song Bad Decisions by benny blanco\n",
      "Sleeping for 3 seconds\n",
      "Getting info for song Me Porto Bonito by Bad Bunny \n",
      "Sleeping for 3 seconds\n",
      "Getting info for song Late Night Talking by Harry Styles\n",
      "Sleeping for 3 seconds\n",
      "Getting info for song I Like You (A Happier Song) by Post Malone \n",
      "Sleeping for 3 seconds\n",
      "Getting info for song Heat Waves by Glass Animals\n",
      "Sleeping for 3 seconds\n",
      "Getting info for song The Kind Of Love We Make by Luke Combs\n",
      "Sleeping for 3 seconds\n",
      "Getting info for song Titi Me Pregunto by Bad Bunny\n",
      "Sleeping for 3 seconds\n",
      "Getting info for song Wasted On You by Morgan Wallen\n",
      "Sleeping for 3 seconds\n",
      "Getting info for song You Proof by Morgan Wallen\n",
      "Sleeping for 3 seconds\n",
      "Getting info for song I Ain't Worried by OneRepublic\n",
      "Sleeping for 3 seconds\n",
      "Getting info for song Stay by The Kid LAROI \n",
      "Sleeping for 3 seconds\n",
      "Getting info for song Big Energy by Latto\n",
      "Sleeping for 3 seconds\n",
      "Getting info for song She Had Me At Heads Carolina by Cole Swindell\n",
      "Sleeping for 3 seconds\n",
      "Getting info for song Jimmy Cooks by Drake \n",
      "Sleeping for 3 seconds\n",
      "Getting info for song Glimpse Of Us by Joji\n",
      "Sleeping for 3 seconds\n",
      "Getting info for song Ghost by Justin Bieber\n",
      "Sleeping for 3 seconds\n"
     ]
    }
   ],
   "source": [
    "hot_100_0_data = get_audio_features(hot_100_0)"
   ]
  },
  {
   "cell_type": "code",
   "execution_count": 371,
   "id": "d5e4fe20-1fc2-49da-b963-4eb7b0be849e",
   "metadata": {
    "collapsed": true,
    "jupyter": {
     "outputs_hidden": true
    },
    "tags": []
   },
   "outputs": [
    {
     "name": "stdout",
     "output_type": "stream",
     "text": [
      "Getting info for song Moscow Mule by Bad Bunny\n",
      "Sleeping for 3 seconds\n",
      "Getting info for song Numb Little Bug by Em Beihold\n",
      "Sleeping for 3 seconds\n",
      "Getting info for song Like I Love Country Music by Kane Brown\n",
      "Sleeping for 3 seconds\n",
      "Getting info for song Shivers by Ed Sheeran\n",
      "Sleeping for 3 seconds\n",
      "Getting info for song 5 Foot 9 by Tyler Hubbard\n",
      "Sleeping for 3 seconds\n",
      "Getting info for song Vegas by Doja Cat\n",
      "Sleeping for 3 seconds\n",
      "Getting info for song In A Minute by Lil Baby\n",
      "Sleeping for 3 seconds\n",
      "Getting info for song Get Into It (Yuh) by Doja Cat\n",
      "Sleeping for 3 seconds\n",
      "Getting info for song Cold Heart (PNAU Remix) by Elton John \n",
      "Sleeping for 3 seconds\n",
      "Getting info for song Rock And A Hard Place by Bailey Zimmerman\n",
      "Sleeping for 3 seconds\n",
      "Getting info for song Sticky by Drake\n",
      "Sleeping for 3 seconds\n",
      "Getting info for song Umm Hmm by YoungBoy Never Broke Again\n",
      "Sleeping for 3 seconds\n",
      "Getting info for song Fall In Love by Bailey Zimmerman\n",
      "Sleeping for 3 seconds\n",
      "Getting info for song Last Night Lonely by Jon Pardi\n",
      "Sleeping for 3 seconds\n",
      "Getting info for song Efecto by Bad Bunny\n",
      "Sleeping for 3 seconds\n",
      "Getting info for song Provenza by Karol G\n",
      "Sleeping for 3 seconds\n",
      "Getting info for song Something In The Orange by Zach Bryan\n",
      "Sleeping for 3 seconds\n",
      "Getting info for song Alien Superstar by Beyonce\n",
      "Sleeping for 3 seconds\n",
      "Getting info for song Super Gremlin by Kodak Black\n",
      "Sleeping for 3 seconds\n",
      "Getting info for song Betty (Get Money) by Yung Gravy\n",
      "Sleeping for 3 seconds\n",
      "Getting info for song I Know by YoungBoy Never Broke Again\n",
      "Sleeping for 3 seconds\n",
      "Getting info for song Home Ain't Home by YoungBoy Never Broke Again \n",
      "Sleeping for 3 seconds\n",
      "Getting info for song Left And Right by Charlie Puth \n",
      "Sleeping for 3 seconds\n",
      "Getting info for song F.N.F. (Let's Go) by Hitkidd \n",
      "Sleeping for 3 seconds\n",
      "Getting info for song Cuff It by Beyonce\n",
      "Sleeping for 3 seconds\n"
     ]
    }
   ],
   "source": [
    "hot_100_1_data = get_audio_features(hot_100_1)"
   ]
  },
  {
   "cell_type": "code",
   "execution_count": 375,
   "id": "e413149e-2093-4fa1-9eb1-afd7814dec80",
   "metadata": {
    "collapsed": true,
    "jupyter": {
     "outputs_hidden": true
    },
    "tags": []
   },
   "outputs": [
    {
     "name": "stdout",
     "output_type": "stream",
     "text": [
      "Getting info for song Son Of A Sinner by Jelly Roll\n",
      "Sleeping for 3 seconds\n",
      "Getting info for song Damn Strait by Scotty McCreery\n",
      "Sleeping for 2 seconds\n",
      "Getting info for song Hot Shit by Cardi B\n",
      "Sleeping for 3 seconds\n",
      "Getting info for song Take My Name by Parmalee\n",
      "Sleeping for 3 seconds\n",
      "Getting info for song Party by Bad Bunny \n",
      "Sleeping for 3 seconds\n",
      "Getting info for song Numb by Marshmello \n",
      "Sleeping for 2 seconds\n",
      "Getting info for song Sleazy Flow by SleazyWorld Go \n",
      "Sleeping for 2 seconds\n",
      "Getting info for song Ojitos Lindos by Bad Bunny \n",
      "Sleeping for 2 seconds\n",
      "Getting info for song So Good by Halsey\n",
      "Sleeping for 2 seconds\n",
      "Getting info for song Despues de La Playa by Bad Bunny\n",
      "Sleeping for 3 seconds\n",
      "Getting info for song New Truck by Dylan Scott\n",
      "Sleeping for 3 seconds\n",
      "Getting info for song Vette Motors by YoungBoy Never Broke Again\n",
      "Sleeping for 2 seconds\n",
      "Getting info for song Fuck Da Industry by YoungBoy Never Broke Again\n",
      "Sleeping for 2 seconds\n",
      "Getting info for song Free Mind by Tems\n",
      "Sleeping for 3 seconds\n",
      "Getting info for song Whiskey On You by Nate Smith\n",
      "Sleeping for 3 seconds\n",
      "Getting info for song Victoria’s Secret by Jax\n",
      "Sleeping for 3 seconds\n",
      "Getting info for song Church Girl by Beyonce\n",
      "Sleeping for 3 seconds\n",
      "Getting info for song Free Dem 5's by YoungBoy Never Broke Again\n",
      "Sleeping for 3 seconds\n",
      "Getting info for song Unstoppable by Sia\n",
      "Sleeping for 3 seconds\n",
      "Getting info for song Bones by Imagine Dragons\n",
      "Sleeping for 2 seconds\n",
      "Getting info for song Tarot by Bad Bunny \n",
      "Sleeping for 3 seconds\n",
      "Getting info for song Wishful Drinking by Ingrid Andress With Sam Hunt\n",
      "Sleeping for 3 seconds\n",
      "Getting info for song Last Last by Burna Boy\n",
      "Sleeping for 3 seconds\n",
      "Getting info for song Dah Dah DahDah by Nardo Wick\n",
      "Sleeping for 3 seconds\n",
      "Getting info for song Lost Soul Survivor by YoungBoy Never Broke Again\n",
      "Sleeping for 2 seconds\n"
     ]
    }
   ],
   "source": [
    "hot_100_2_data= get_audio_features(hot_100_2)"
   ]
  },
  {
   "cell_type": "code",
   "execution_count": 398,
   "id": "fac5480c-6745-487d-8e2c-2b522bcdecef",
   "metadata": {
    "collapsed": true,
    "jupyter": {
     "outputs_hidden": true
    },
    "tags": []
   },
   "outputs": [
    {
     "name": "stdout",
     "output_type": "stream",
     "text": [
      "Getting info for song With A Woman You Love by Justin Moore\n",
      "Sleeping for 3 seconds\n",
      "Getting info for song Cooped Up by Post Malone \n",
      "Sleeping for 3 seconds\n",
      "Getting info for song Truth About You by Mitchell Tenpenny\n",
      "Sleeping for 3 seconds\n",
      "Getting info for song Energy by Beyonce \n",
      "Sleeping for 2 seconds\n",
      "Getting info for song At The End Of A Bar by Chris Young \n",
      "Sleeping for 2 seconds\n",
      "Getting info for song Pick Me Up by Gabby Barrett\n",
      "Sleeping for 3 seconds\n",
      "Getting info for song She Likes It by Russell Dickerson \n",
      "Sleeping for 3 seconds\n",
      "Getting info for song Hold Your Own by YoungBoy Never Broke Again\n",
      "Sleeping for 2 seconds\n",
      "Getting info for song Ghost Story by Carrie Underwood\n",
      "Sleeping for 3 seconds\n",
      "Getting info for song Puffin On Zootiez by Future\n",
      "Sleeping for 3 seconds\n",
      "Getting info for song Top Sound by YoungBoy Never Broke Again\n",
      "Sleeping for 3 seconds\n",
      "Getting info for song Never Sleep by NAV\n",
      "Sleeping for 2 seconds\n",
      "Getting info for song Kamikaze by YoungBoy Never Broke Again\n",
      "Sleeping for 2 seconds\n",
      "Getting info for song Hotel Lobby (Unc And Phew) by Quavo \n",
      "Sleeping for 2 seconds\n",
      "Getting info for song My Time by YoungBoy Never Broke Again\n",
      "Sleeping for 3 seconds\n",
      "Getting info for song Thought You Should Know by Morgan Wallen\n",
      "Sleeping for 2 seconds\n",
      "Getting info for song Im That Girl by Beyonce\n",
      "Sleeping for 2 seconds\n",
      "Getting info for song Cozy by Beyonce\n",
      "Sleeping for 3 seconds\n",
      "Getting info for song Un Ratito by Bad Bunny\n",
      "Sleeping for 3 seconds\n",
      "Getting info for song La Corriente by Bad Bunny \n",
      "Sleeping for 2 seconds\n",
      "Getting info for song Big 14 by Trippie Redd\n",
      "Sleeping for 2 seconds\n",
      "Getting info for song Until I Found You by Stephen Sanchez\n",
      "Sleeping for 2 seconds\n",
      "Getting info for song Despecha by Rosalia\n",
      "Sleeping for 3 seconds\n",
      "Getting info for song Love Me More by Sam Smith\n",
      "Sleeping for 2 seconds\n",
      "Getting info for song 7 Days by YoungBoy Never Broke Again\n",
      "Sleeping for 3 seconds\n"
     ]
    }
   ],
   "source": [
    "hot_100_3_data = get_audio_features(hot_100_3)"
   ]
  },
  {
   "cell_type": "markdown",
   "id": "51e77ff3-f1ad-4f5b-804d-acf482df4a9c",
   "metadata": {},
   "source": [
    "### Concat and save"
   ]
  },
  {
   "cell_type": "code",
   "execution_count": 400,
   "id": "d34b5032-62b4-42fd-8d3f-c94937c587ea",
   "metadata": {},
   "outputs": [
    {
     "data": {
      "text/html": [
       "<div>\n",
       "<style scoped>\n",
       "    .dataframe tbody tr th:only-of-type {\n",
       "        vertical-align: middle;\n",
       "    }\n",
       "\n",
       "    .dataframe tbody tr th {\n",
       "        vertical-align: top;\n",
       "    }\n",
       "\n",
       "    .dataframe thead th {\n",
       "        text-align: right;\n",
       "    }\n",
       "</style>\n",
       "<table border=\"1\" class=\"dataframe\">\n",
       "  <thead>\n",
       "    <tr style=\"text-align: right;\">\n",
       "      <th></th>\n",
       "      <th>Song</th>\n",
       "      <th>Artist</th>\n",
       "      <th>ID</th>\n",
       "      <th>Link</th>\n",
       "      <th>Danceability</th>\n",
       "      <th>Energy</th>\n",
       "      <th>Key</th>\n",
       "      <th>Loudness</th>\n",
       "      <th>Mode</th>\n",
       "      <th>Speechiness</th>\n",
       "      <th>Instrumentalness</th>\n",
       "      <th>Liveness</th>\n",
       "      <th>Valence</th>\n",
       "      <th>Tempo</th>\n",
       "      <th>Duration</th>\n",
       "      <th>Time Signature</th>\n",
       "    </tr>\n",
       "  </thead>\n",
       "  <tbody>\n",
       "    <tr>\n",
       "      <th>0</th>\n",
       "      <td>BREAK MY SOUL</td>\n",
       "      <td>Beyoncé</td>\n",
       "      <td>2KukL7UlQ8TdvpaA7bY3ZJ</td>\n",
       "      <td>https://open.spotify.com/track/2KukL7UlQ8Tdvpa...</td>\n",
       "      <td>0.687</td>\n",
       "      <td>0.887</td>\n",
       "      <td>1</td>\n",
       "      <td>-5.04</td>\n",
       "      <td>0</td>\n",
       "      <td>0.0826</td>\n",
       "      <td>0.000002</td>\n",
       "      <td>0.27</td>\n",
       "      <td>0.853</td>\n",
       "      <td>114.941</td>\n",
       "      <td>278282</td>\n",
       "      <td>4</td>\n",
       "    </tr>\n",
       "    <tr>\n",
       "      <th>1</th>\n",
       "      <td>As It Was</td>\n",
       "      <td>Harry Styles</td>\n",
       "      <td>4LRPiXqCikLlN15c3yImP7</td>\n",
       "      <td>https://open.spotify.com/track/4LRPiXqCikLlN15...</td>\n",
       "      <td>0.52</td>\n",
       "      <td>0.731</td>\n",
       "      <td>6</td>\n",
       "      <td>-5.338</td>\n",
       "      <td>0</td>\n",
       "      <td>0.0557</td>\n",
       "      <td>0.00101</td>\n",
       "      <td>0.311</td>\n",
       "      <td>0.662</td>\n",
       "      <td>173.93</td>\n",
       "      <td>167303</td>\n",
       "      <td>4</td>\n",
       "    </tr>\n",
       "    <tr>\n",
       "      <th>2</th>\n",
       "      <td>About Damn Time</td>\n",
       "      <td>Lizzo</td>\n",
       "      <td>1PckUlxKqWQs3RlWXVBLw3</td>\n",
       "      <td>https://open.spotify.com/track/1PckUlxKqWQs3Rl...</td>\n",
       "      <td>0.836</td>\n",
       "      <td>0.743</td>\n",
       "      <td>10</td>\n",
       "      <td>-6.305</td>\n",
       "      <td>0</td>\n",
       "      <td>0.0656</td>\n",
       "      <td>0</td>\n",
       "      <td>0.335</td>\n",
       "      <td>0.722</td>\n",
       "      <td>108.966</td>\n",
       "      <td>191822</td>\n",
       "      <td>4</td>\n",
       "    </tr>\n",
       "    <tr>\n",
       "      <th>3</th>\n",
       "      <td>Running Up That Hill (A Deal With God) - 2018 ...</td>\n",
       "      <td>Kate Bush</td>\n",
       "      <td>29d0nY7TzCoi22XBqDQkiP</td>\n",
       "      <td>https://open.spotify.com/track/29d0nY7TzCoi22X...</td>\n",
       "      <td>0.625</td>\n",
       "      <td>0.533</td>\n",
       "      <td>10</td>\n",
       "      <td>-11.903</td>\n",
       "      <td>0</td>\n",
       "      <td>0.0596</td>\n",
       "      <td>0.00266</td>\n",
       "      <td>0.0546</td>\n",
       "      <td>0.139</td>\n",
       "      <td>108.296</td>\n",
       "      <td>300840</td>\n",
       "      <td>4</td>\n",
       "    </tr>\n",
       "    <tr>\n",
       "      <th>4</th>\n",
       "      <td>STAYING ALIVE (feat. Drake &amp; Lil Baby)</td>\n",
       "      <td>DJ Khaled</td>\n",
       "      <td>0g2Bbgy7P41pFjMWJuzsf4</td>\n",
       "      <td>https://open.spotify.com/track/0g2Bbgy7P41pFjM...</td>\n",
       "      <td>0.718</td>\n",
       "      <td>0.461</td>\n",
       "      <td>4</td>\n",
       "      <td>-7.676</td>\n",
       "      <td>0</td>\n",
       "      <td>0.0797</td>\n",
       "      <td>0</td>\n",
       "      <td>0.283</td>\n",
       "      <td>0.181</td>\n",
       "      <td>129.953</td>\n",
       "      <td>178176</td>\n",
       "      <td>4</td>\n",
       "    </tr>\n",
       "    <tr>\n",
       "      <th>...</th>\n",
       "      <td>...</td>\n",
       "      <td>...</td>\n",
       "      <td>...</td>\n",
       "      <td>...</td>\n",
       "      <td>...</td>\n",
       "      <td>...</td>\n",
       "      <td>...</td>\n",
       "      <td>...</td>\n",
       "      <td>...</td>\n",
       "      <td>...</td>\n",
       "      <td>...</td>\n",
       "      <td>...</td>\n",
       "      <td>...</td>\n",
       "      <td>...</td>\n",
       "      <td>...</td>\n",
       "      <td>...</td>\n",
       "    </tr>\n",
       "    <tr>\n",
       "      <th>20</th>\n",
       "      <td>Big 14 (feat. Offset &amp; Moneybagg Yo)</td>\n",
       "      <td>Trippie Redd</td>\n",
       "      <td>7rQ84WsT2Wcnrz5gTmbGmw</td>\n",
       "      <td>https://open.spotify.com/track/7rQ84WsT2Wcnrz5...</td>\n",
       "      <td>0.71</td>\n",
       "      <td>0.828</td>\n",
       "      <td>1</td>\n",
       "      <td>-4.725</td>\n",
       "      <td>1</td>\n",
       "      <td>0.0726</td>\n",
       "      <td>0</td>\n",
       "      <td>0.168</td>\n",
       "      <td>0.316</td>\n",
       "      <td>128.027</td>\n",
       "      <td>247458</td>\n",
       "      <td>4</td>\n",
       "    </tr>\n",
       "    <tr>\n",
       "      <th>21</th>\n",
       "      <td>Until I Found You</td>\n",
       "      <td>Stephen Sanchez</td>\n",
       "      <td>0T5iIrXA4p5GsubkhuBIKV</td>\n",
       "      <td>https://open.spotify.com/track/0T5iIrXA4p5Gsub...</td>\n",
       "      <td>0.539</td>\n",
       "      <td>0.508</td>\n",
       "      <td>10</td>\n",
       "      <td>-6.05</td>\n",
       "      <td>1</td>\n",
       "      <td>0.0288</td>\n",
       "      <td>0</td>\n",
       "      <td>0.174</td>\n",
       "      <td>0.227</td>\n",
       "      <td>101.358</td>\n",
       "      <td>177720</td>\n",
       "      <td>3</td>\n",
       "    </tr>\n",
       "    <tr>\n",
       "      <th>22</th>\n",
       "      <td>DESPECHÁ</td>\n",
       "      <td>ROSALÍA</td>\n",
       "      <td>5ildQOEKmJuWGl2vRkFdYc</td>\n",
       "      <td>https://open.spotify.com/track/5ildQOEKmJuWGl2...</td>\n",
       "      <td>0.919</td>\n",
       "      <td>0.623</td>\n",
       "      <td>7</td>\n",
       "      <td>-6.521</td>\n",
       "      <td>1</td>\n",
       "      <td>0.0992</td>\n",
       "      <td>0.000016</td>\n",
       "      <td>0.0609</td>\n",
       "      <td>0.775</td>\n",
       "      <td>130.037</td>\n",
       "      <td>157018</td>\n",
       "      <td>4</td>\n",
       "    </tr>\n",
       "    <tr>\n",
       "      <th>23</th>\n",
       "      <td>Love Me More</td>\n",
       "      <td>Sam Smith</td>\n",
       "      <td>16MQETUgqXwY4lZcyRafU3</td>\n",
       "      <td>https://open.spotify.com/track/16MQETUgqXwY4lZ...</td>\n",
       "      <td>0.791</td>\n",
       "      <td>0.439</td>\n",
       "      <td>10</td>\n",
       "      <td>-5.62</td>\n",
       "      <td>1</td>\n",
       "      <td>0.0645</td>\n",
       "      <td>0.000018</td>\n",
       "      <td>0.126</td>\n",
       "      <td>0.559</td>\n",
       "      <td>85.004</td>\n",
       "      <td>190659</td>\n",
       "      <td>4</td>\n",
       "    </tr>\n",
       "    <tr>\n",
       "      <th>24</th>\n",
       "      <td>7 Days</td>\n",
       "      <td>YoungBoy Never Broke Again</td>\n",
       "      <td>0WBx5ynHLEFv5RFgxKTvIN</td>\n",
       "      <td>https://open.spotify.com/track/0WBx5ynHLEFv5RF...</td>\n",
       "      <td>0.556</td>\n",
       "      <td>0.808</td>\n",
       "      <td>1</td>\n",
       "      <td>-5.391</td>\n",
       "      <td>0</td>\n",
       "      <td>0.428</td>\n",
       "      <td>0</td>\n",
       "      <td>0.196</td>\n",
       "      <td>0.788</td>\n",
       "      <td>109.168</td>\n",
       "      <td>175610</td>\n",
       "      <td>5</td>\n",
       "    </tr>\n",
       "  </tbody>\n",
       "</table>\n",
       "<p>100 rows × 16 columns</p>\n",
       "</div>"
      ],
      "text/plain": [
       "                                                 Song  \\\n",
       "0                                       BREAK MY SOUL   \n",
       "1                                           As It Was   \n",
       "2                                     About Damn Time   \n",
       "3   Running Up That Hill (A Deal With God) - 2018 ...   \n",
       "4              STAYING ALIVE (feat. Drake & Lil Baby)   \n",
       "..                                                ...   \n",
       "20               Big 14 (feat. Offset & Moneybagg Yo)   \n",
       "21                                  Until I Found You   \n",
       "22                                           DESPECHÁ   \n",
       "23                                       Love Me More   \n",
       "24                                             7 Days   \n",
       "\n",
       "                        Artist                      ID  \\\n",
       "0                      Beyoncé  2KukL7UlQ8TdvpaA7bY3ZJ   \n",
       "1                 Harry Styles  4LRPiXqCikLlN15c3yImP7   \n",
       "2                        Lizzo  1PckUlxKqWQs3RlWXVBLw3   \n",
       "3                    Kate Bush  29d0nY7TzCoi22XBqDQkiP   \n",
       "4                    DJ Khaled  0g2Bbgy7P41pFjMWJuzsf4   \n",
       "..                         ...                     ...   \n",
       "20                Trippie Redd  7rQ84WsT2Wcnrz5gTmbGmw   \n",
       "21             Stephen Sanchez  0T5iIrXA4p5GsubkhuBIKV   \n",
       "22                     ROSALÍA  5ildQOEKmJuWGl2vRkFdYc   \n",
       "23                   Sam Smith  16MQETUgqXwY4lZcyRafU3   \n",
       "24  YoungBoy Never Broke Again  0WBx5ynHLEFv5RFgxKTvIN   \n",
       "\n",
       "                                                 Link Danceability Energy Key  \\\n",
       "0   https://open.spotify.com/track/2KukL7UlQ8Tdvpa...        0.687  0.887   1   \n",
       "1   https://open.spotify.com/track/4LRPiXqCikLlN15...         0.52  0.731   6   \n",
       "2   https://open.spotify.com/track/1PckUlxKqWQs3Rl...        0.836  0.743  10   \n",
       "3   https://open.spotify.com/track/29d0nY7TzCoi22X...        0.625  0.533  10   \n",
       "4   https://open.spotify.com/track/0g2Bbgy7P41pFjM...        0.718  0.461   4   \n",
       "..                                                ...          ...    ...  ..   \n",
       "20  https://open.spotify.com/track/7rQ84WsT2Wcnrz5...         0.71  0.828   1   \n",
       "21  https://open.spotify.com/track/0T5iIrXA4p5Gsub...        0.539  0.508  10   \n",
       "22  https://open.spotify.com/track/5ildQOEKmJuWGl2...        0.919  0.623   7   \n",
       "23  https://open.spotify.com/track/16MQETUgqXwY4lZ...        0.791  0.439  10   \n",
       "24  https://open.spotify.com/track/0WBx5ynHLEFv5RF...        0.556  0.808   1   \n",
       "\n",
       "   Loudness Mode Speechiness Instrumentalness Liveness Valence    Tempo  \\\n",
       "0     -5.04    0      0.0826         0.000002     0.27   0.853  114.941   \n",
       "1    -5.338    0      0.0557          0.00101    0.311   0.662   173.93   \n",
       "2    -6.305    0      0.0656                0    0.335   0.722  108.966   \n",
       "3   -11.903    0      0.0596          0.00266   0.0546   0.139  108.296   \n",
       "4    -7.676    0      0.0797                0    0.283   0.181  129.953   \n",
       "..      ...  ...         ...              ...      ...     ...      ...   \n",
       "20   -4.725    1      0.0726                0    0.168   0.316  128.027   \n",
       "21    -6.05    1      0.0288                0    0.174   0.227  101.358   \n",
       "22   -6.521    1      0.0992         0.000016   0.0609   0.775  130.037   \n",
       "23    -5.62    1      0.0645         0.000018    0.126   0.559   85.004   \n",
       "24   -5.391    0       0.428                0    0.196   0.788  109.168   \n",
       "\n",
       "   Duration Time Signature  \n",
       "0    278282              4  \n",
       "1    167303              4  \n",
       "2    191822              4  \n",
       "3    300840              4  \n",
       "4    178176              4  \n",
       "..      ...            ...  \n",
       "20   247458              4  \n",
       "21   177720              3  \n",
       "22   157018              4  \n",
       "23   190659              4  \n",
       "24   175610              5  \n",
       "\n",
       "[100 rows x 16 columns]"
      ]
     },
     "execution_count": 400,
     "metadata": {},
     "output_type": "execute_result"
    }
   ],
   "source": [
    "hot_100_data = pd.concat([hot_100_0_data, hot_100_1_data, hot_100_2_data, hot_100_3_data])\n",
    "hot_100_data"
   ]
  },
  {
   "cell_type": "code",
   "execution_count": 401,
   "id": "15997770-4ca0-4661-ae7f-46a7a565264d",
   "metadata": {},
   "outputs": [],
   "source": [
    "hot_100_data.to_csv(\"Hot_100_Data.csv\")"
   ]
  }
 ],
 "metadata": {
  "kernelspec": {
   "display_name": "Python 3 (ipykernel)",
   "language": "python",
   "name": "python3"
  },
  "language_info": {
   "codemirror_mode": {
    "name": "ipython",
    "version": 3
   },
   "file_extension": ".py",
   "mimetype": "text/x-python",
   "name": "python",
   "nbconvert_exporter": "python",
   "pygments_lexer": "ipython3",
   "version": "3.9.12"
  }
 },
 "nbformat": 4,
 "nbformat_minor": 5
}
