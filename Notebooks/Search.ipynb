{
 "cells": [
  {
   "cell_type": "code",
   "execution_count": 9,
   "id": "6db6915e-dca8-4f89-b838-6ec19b6d4cc5",
   "metadata": {},
   "outputs": [],
   "source": [
    "import pandas as pd\n",
    "import numpy as np\n",
    "\n",
    "import spotipy\n",
    "from spotipy.oauth2 import SpotifyClientCredentials\n",
    "\n",
    "import sys\n",
    "sys.path.insert(1, '../Src/Lib')\n",
    "from config import *\n",
    "\n",
    "import pickle\n",
    "import yaml"
   ]
  },
  {
   "cell_type": "code",
   "execution_count": 5,
   "id": "141e4da9-381d-4b83-8c26-c79aeb5652b6",
   "metadata": {},
   "outputs": [],
   "source": [
    "sp = spotipy.Spotify(auth_manager=SpotifyClientCredentials(client_id= Client_ID, client_secret= Client_Secret))"
   ]
  },
  {
   "cell_type": "code",
   "execution_count": 56,
   "id": "5a76d0eb-ae04-466e-836a-37e6244f8cbb",
   "metadata": {
    "tags": []
   },
   "outputs": [],
   "source": [
    "def search_song():\n",
    "    print(\"Please write a song name:\")\n",
    "    song = str(input())\n",
    "    print()\n",
    "    try:\n",
    "        results = sp.search(q=song, limit = 5)\n",
    "    \n",
    "        for track in results[\"tracks\"][\"items\"]:\n",
    "            print(results[\"tracks\"][\"items\"].index(track)+1)\n",
    "            print(\"Song:\",track[\"name\"])\n",
    "            print(\"Artist:\",track[\"artists\"][0][\"name\"])\n",
    "            print(\"Album:\",track[\"album\"][\"name\"])\n",
    "            print(\"Link:\",track[\"external_urls\"][\"spotify\"])\n",
    "            print()\n",
    "        \n",
    "        print(\"Which song did you mean?\",range(len(results[\"tracks\"][\"items\"]))[0]+1,\"-\",range(len(results[\"tracks\"][\"items\"]))[-1]+1)\n",
    "        print(\"If your song is not here, input 0\")\n",
    "        select = int(input())\n",
    "        print()\n",
    "    \n",
    "        while select > len(results[\"tracks\"][\"items\"]):\n",
    "            print(\"Please input a valid number\")\n",
    "            select = int(input())\n",
    "            print()\n",
    "        \n",
    "        else:\n",
    "            if select == 0:\n",
    "                search_song()\n",
    "        \n",
    "            else:\n",
    "                print(\"Selected\", results[\"tracks\"][\"items\"][select-1][\"name\"],\"by\",results[\"tracks\"][\"items\"][select-1][\"artists\"][0][\"name\"])\n",
    "                print()\n",
    "        \n",
    "                track_columns = [\"Song\", \"Artist\", \"ID\", \"Link\",\n",
    "                         \"danceability\", \"energy\", \"key\", \"loudness\",\n",
    "                         \"mode\", \"speechiness\", \"instrumentalness\", \"liveness\",\n",
    "                         \"valence\", \"tempo\", \"duration_ms\", \"time_signature\"]\n",
    "        \n",
    "                track = results[\"tracks\"][\"items\"][select-1]\n",
    "                track_features = {}\n",
    "                track_features[\"Song\"] = track[\"name\"]\n",
    "                track_features[\"Artist\"] = track[\"artists\"][0][\"name\"]\n",
    "                track_features[\"ID\"] = track[\"id\"]\n",
    "                track_features[\"Link\"] = track[\"external_urls\"][\"spotify\"]\n",
    "        \n",
    "                audio_features = sp.audio_features(track[\"id\"])[0]\n",
    "                for feature in track_columns[4:]:\n",
    "                    track_features[feature] = audio_features[feature]\n",
    "            \n",
    "                song_data = pd.DataFrame.from_dict(track_features, orient = \"index\").T\n",
    "                song_data.columns = song_data.columns = ['Song', 'Artist', 'ID', 'Link',\n",
    "                                                 'Danceability', 'Energy', 'Key','Loudness',\n",
    "                                                 'Mode', 'Speechiness', 'Instrumentalness', 'Liveness',\n",
    "                                                 'Valence', 'Tempo', 'Duration', 'Time Signature']\n",
    "        \n",
    "                song_data = song_data.drop(columns = [\"Song\", \"Artist\", \"ID\", \"Link\", \"Energy\", \"Mode\", \"Time Signature\", \"Duration\", \"Key\", \"Liveness\"])\n",
    "            \n",
    "                with open(\"../params.yaml\", \"r\") as file:\n",
    "                    config = yaml.safe_load(file)\n",
    "            \n",
    "                with open(config[\"Transformers\"][\"Power\"], \"rb\") as file:\n",
    "                    transformer = pickle.load(file)\n",
    "                song_data_pt = transformer.transform(song_data)\n",
    "        \n",
    "                with open(config[\"Scalers\"][\"Standard\"], \"rb\") as file:\n",
    "                    scaler = pickle.load(file)\n",
    "                song_data_pt_ss = scaler.transform(song_data_pt)\n",
    "        \n",
    "                with open(config[\"Models\"][\"K-Means\"], \"rb\") as file:\n",
    "                    km = pickle.load(file)\n",
    "                cluster = km.predict(song_data_pt_ss)\n",
    "            \n",
    "                with open(config[\"Data\"][\"Songs_DB_Clusters\"], \"r\", encoding = \"utf-8\") as file:\n",
    "                    songs = pd.read_csv(file)\n",
    "        \n",
    "                if track_features[\"ID\"] in list(songs[\"ID\"][songs[\"Label\"] == \"H\"]):\n",
    "                    print(\"Your song is in the Top 100!\")\n",
    "                    print()\n",
    "                    examples = songs[(songs[\"Label\"] == \"H\") & (songs[\"Cluster\"] == cluster[0])].sample(3)\n",
    "            \n",
    "                    print(\"Song:\",examples.iloc[0][\"Song\"])\n",
    "                    print(\"Artist:\",examples.iloc[0][\"Artist\"])\n",
    "                    print(\"Link:\",examples.iloc[0][\"Link\"])\n",
    "                    print()\n",
    "                    print(\"Song:\",examples.iloc[1][\"Song\"])\n",
    "                    print(\"Artist:\",examples.iloc[1][\"Artist\"])\n",
    "                    print(\"Link:\",examples.iloc[1][\"Link\"])\n",
    "                    print()\n",
    "                    print(\"Song:\",examples.iloc[2][\"Song\"])\n",
    "                    print(\"Artist:\",examples.iloc[2][\"Artist\"])\n",
    "                    print(\"Link:\",examples.iloc[2][\"Link\"])        \n",
    "                else:\n",
    "                    examples = songs[(songs[\"Label\"] == \"N\") & (songs[\"Cluster\"] == cluster[0])].sample(3)\n",
    "            \n",
    "                    print(\"Song:\",examples.iloc[0][\"Song\"])\n",
    "                    print(\"Artist:\",examples.iloc[0][\"Artist\"])\n",
    "                    print(\"Link:\",examples.iloc[0][\"Link\"])\n",
    "                    print()\n",
    "                    print(\"Song:\",examples.iloc[1][\"Song\"])\n",
    "                    print(\"Artist:\",examples.iloc[1][\"Artist\"])\n",
    "                    print(\"Link:\",examples.iloc[1][\"Link\"])\n",
    "                    print()\n",
    "                    print(\"Song:\",examples.iloc[2][\"Song\"])\n",
    "                    print(\"Artist:\",examples.iloc[2][\"Artist\"])\n",
    "                    print(\"Link:\",examples.iloc[2][\"Link\"])       \n",
    "    except:\n",
    "        print(\"Your song was not found, please try again.\")\n",
    "        print()\n",
    "        search_song()"
   ]
  },
  {
   "cell_type": "code",
   "execution_count": 63,
   "id": "51f3aa05-3964-4b89-9b40-660397f72da2",
   "metadata": {},
   "outputs": [
    {
     "name": "stdout",
     "output_type": "stream",
     "text": [
      "Please write a song name:\n"
     ]
    },
    {
     "name": "stdin",
     "output_type": "stream",
     "text": [
      " angst\n"
     ]
    },
    {
     "name": "stdout",
     "output_type": "stream",
     "text": [
      "\n",
      "1\n",
      "Song: Angst\n",
      "Artist: Rammstein\n",
      "Album: Zeit\n",
      "Link: https://open.spotify.com/track/0UuNO0yYvsMPlyLF7RfQlg\n",
      "\n",
      "2\n",
      "Song: ANGST II\n",
      "Artist: MESSIAH!\n",
      "Album: ANGST II\n",
      "Link: https://open.spotify.com/track/09lgtisfbv0A7IdGAHGrOS\n",
      "\n",
      "3\n",
      "Song: Teen Angst (What The World Needs Now)\n",
      "Artist: Cracker\n",
      "Album: Cracker\n",
      "Link: https://open.spotify.com/track/21gRGP5LdIgto8sznRZ7xz\n",
      "\n",
      "4\n",
      "Song: Angst In My Pants\n",
      "Artist: Sparks\n",
      "Album: Angst In My Pants\n",
      "Link: https://open.spotify.com/track/1Oovzlhz3SgYVFsDcJHpVn\n",
      "\n",
      "5\n",
      "Song: Angst\n",
      "Artist: INZO\n",
      "Album: Angst\n",
      "Link: https://open.spotify.com/track/3NivHilTTTs8SQwp51yG0X\n",
      "\n",
      "Which song did you mean? 1 - 5\n",
      "If your song is not here, input 0\n"
     ]
    },
    {
     "name": "stdin",
     "output_type": "stream",
     "text": [
      " 1\n"
     ]
    },
    {
     "name": "stdout",
     "output_type": "stream",
     "text": [
      "\n",
      "Selected Angst by Rammstein\n",
      "\n",
      "Song: BTSTU - Edit\n",
      "Artist: Jai Paul\n",
      "Link: https://open.spotify.com/track/2NRRrr8ylDK38KD3Ffbw4K\n",
      "\n",
      "Song: Straight Outta Compton\n",
      "Artist: N.W.A.\n",
      "Link: https://open.spotify.com/track/6KIKRz9eSTXdNsGUnomdtW\n",
      "\n",
      "Song: The Humpty Dance\n",
      "Artist: Digital Underground\n",
      "Link: https://open.spotify.com/track/4WxQGUmWBRNovxlF2g8Xdv\n"
     ]
    }
   ],
   "source": [
    "search_song()"
   ]
  }
 ],
 "metadata": {
  "kernelspec": {
   "display_name": "Python 3 (ipykernel)",
   "language": "python",
   "name": "python3"
  },
  "language_info": {
   "codemirror_mode": {
    "name": "ipython",
    "version": 3
   },
   "file_extension": ".py",
   "mimetype": "text/x-python",
   "name": "python",
   "nbconvert_exporter": "python",
   "pygments_lexer": "ipython3",
   "version": "3.9.12"
  }
 },
 "nbformat": 4,
 "nbformat_minor": 5
}
