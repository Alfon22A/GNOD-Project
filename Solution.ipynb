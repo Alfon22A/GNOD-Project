{
 "cells": [
  {
   "cell_type": "markdown",
   "id": "5570e277-2685-45d7-8854-d81d03a6d879",
   "metadata": {},
   "source": [
    "# Imports"
   ]
  },
  {
   "cell_type": "code",
   "execution_count": 1,
   "id": "345aa3e0-0109-496a-9202-b7307cdee80d",
   "metadata": {},
   "outputs": [],
   "source": [
    "import requests\n",
    "from bs4 import BeautifulSoup\n",
    "import pandas as pd\n",
    "import numpy as np\n",
    "import re\n",
    "import zipfile\n",
    "import getpass\n",
    "from time import sleep\n",
    "from random import randint\n",
    "import spotipy\n",
    "from config import *"
   ]
  },
  {
   "cell_type": "markdown",
   "id": "71cd60dc-5125-4999-aedb-14e0dfb22b16",
   "metadata": {},
   "source": [
    "# Spotify API"
   ]
  },
  {
   "cell_type": "markdown",
   "id": "3daeac44-006e-4377-993a-dcfed37856ba",
   "metadata": {},
   "source": [
    "## Token"
   ]
  },
  {
   "cell_type": "code",
   "execution_count": 121,
   "id": "caf678c0-813e-4529-b18f-353ec9c83aae",
   "metadata": {},
   "outputs": [],
   "source": [
    "token = spotipy.oauth2.SpotifyClientCredentials(client_id = Client_ID, client_secret = Client_Secret)"
   ]
  },
  {
   "cell_type": "code",
   "execution_count": 122,
   "id": "8db37baa-f7e9-4364-b7bc-ab0b379eb56b",
   "metadata": {},
   "outputs": [
    {
     "name": "stderr",
     "output_type": "stream",
     "text": [
      "C:\\Users\\alfon\\AppData\\Local\\Temp\\ipykernel_12628\\4134625355.py:1: DeprecationWarning: You're using 'as_dict = True'.get_access_token will return the token string directly in future versions. Please adjust your code accordingly, or use get_cached_token instead.\n",
      "  cache_token = token.get_access_token()\n"
     ]
    }
   ],
   "source": [
    "cache_token = token.get_access_token()"
   ]
  },
  {
   "cell_type": "code",
   "execution_count": 123,
   "id": "b94689b6-4430-421d-93e5-b19be1b826cc",
   "metadata": {},
   "outputs": [
    {
     "data": {
      "text/plain": [
       "{'access_token': 'BQA8Zgx4cee89ZY0STLtr828lu7MsGJwzFw9V7mpRGR8nsYhQ52l9IIJUQu0xu1uDB7rTHqht5K85Wj3HOrVLOJICKvEWP2vGXwB7xQgPaY1DxpROZc',\n",
       " 'token_type': 'Bearer',\n",
       " 'expires_in': 3600,\n",
       " 'expires_at': 1661266332}"
      ]
     },
     "execution_count": 123,
     "metadata": {},
     "output_type": "execute_result"
    }
   ],
   "source": [
    "cache_token"
   ]
  },
  {
   "cell_type": "code",
   "execution_count": 124,
   "id": "cacdd9ed-122a-4259-851d-708abfa1f56e",
   "metadata": {},
   "outputs": [],
   "source": [
    "sp = spotipy.Spotify(cache_token[\"access_token\"])"
   ]
  },
  {
   "cell_type": "markdown",
   "id": "2938ccbe-702e-4fae-a63a-1a53ada8a071",
   "metadata": {},
   "source": [
    "## Request"
   ]
  },
  {
   "cell_type": "code",
   "execution_count": 62,
   "id": "53e5b9c6-fca2-407c-9446-7f2bb24e7aff",
   "metadata": {
    "tags": []
   },
   "outputs": [],
   "source": [
    "results = sp.user_playlist_tracks(\"acclaimed music\", \"1G8IpkZKobrIlXcVPoSIuf\")"
   ]
  },
  {
   "cell_type": "code",
   "execution_count": 33,
   "id": "ec6b7da8-0e81-4531-944a-1d8df7f8d70d",
   "metadata": {
    "tags": []
   },
   "outputs": [
    {
     "data": {
      "text/plain": [
       "'https://open.spotify.com/track/3AhXZa8sUQht0UEdBJgpGc'"
      ]
     },
     "execution_count": 33,
     "metadata": {},
     "output_type": "execute_result"
    }
   ],
   "source": [
    "results[\"items\"][0][\"track\"][\"external_urls\"][\"spotify\"]"
   ]
  },
  {
   "cell_type": "markdown",
   "id": "96ac2dff-e2b3-429e-8834-6d56a6e7aa83",
   "metadata": {
    "tags": []
   },
   "source": [
    "### Function to get the data from the first 100 songs"
   ]
  },
  {
   "cell_type": "code",
   "execution_count": 76,
   "id": "d2f06dbc-6942-4f8d-93f1-7c6a7b31efdc",
   "metadata": {},
   "outputs": [],
   "source": [
    "def analyze_playlist(creator, playlist_id, pages=5, start=0):\n",
    "    \n",
    "    playlist_columns = [\"Song\", \"Artist\", \"ID\", \"Link\", \"danceability\", \"energy\", \"key\", \"loudness\", \"mode\", \"speechiness\", \"instrumentalness\", \"liveness\", \"valence\", \"tempo\", \"duration_ms\", \"time_signature\"]\n",
    "    \n",
    "    playlist_df = pd.DataFrame(columns = playlist_columns)\n",
    "    \n",
    "    playlist = sp.user_playlist_tracks(creator, playlist_id, offset=start)\n",
    "    nap = randint(1,2)\n",
    "    for i in range(pages):\n",
    "        print(\"Page\",i+1)\n",
    "        try:\n",
    "            tracks = playlist[\"items\"]\n",
    "            for track in tracks:\n",
    "                playlist_features = {}\n",
    "                playlist_features[\"Song\"] = track[\"track\"][\"name\"]\n",
    "                playlist_features[\"Artist\"] = track[\"track\"][\"album\"][\"artists\"][0][\"name\"]\n",
    "                playlist_features[\"ID\"] = track[\"track\"][\"id\"]\n",
    "                playlist_features[\"Link\"] = track[\"track\"][\"external_urls\"][\"spotify\"]\n",
    "        \n",
    "                audio_features = sp.audio_features(playlist_features[\"ID\"])[0]\n",
    "                for feature in playlist_columns[4:]:\n",
    "                    playlist_features[feature] = audio_features[feature]\n",
    "        \n",
    "                track_df = pd.DataFrame(playlist_features, index = [0])\n",
    "                playlist_df = pd.concat([playlist_df, track_df], ignore_index = True)\n",
    "            playlist = sp.next(playlist)\n",
    "            \n",
    "        except:\n",
    "            continue\n",
    "        \n",
    "        print(\"Sleeping for\",nap,\"seconds\")\n",
    "        sleep(nap)\n",
    "    \n",
    "    playlist_df.columns = [\"Song\", \"Artist\", \"ID\", \"Link\", \"Danceability\", \"Energy\", \"Key\", \"Loudness\", \"Mode\", \"Speechiness\", \"Instrumentalness\", \"Liveness\", \"Valence\", \"Tempo\", \"Duration\", \"Time Signature\"]\n",
    "        \n",
    "    return playlist_df"
   ]
  },
  {
   "cell_type": "code",
   "execution_count": 104,
   "id": "a3143681-da46-41c5-b3cf-8654fd8dd3cd",
   "metadata": {
    "tags": []
   },
   "outputs": [
    {
     "name": "stdout",
     "output_type": "stream",
     "text": [
      "Page 1\n",
      "Sleeping for 2 seconds\n",
      "Page 2\n",
      "Sleeping for 2 seconds\n",
      "Page 3\n",
      "Sleeping for 2 seconds\n",
      "Page 4\n",
      "Sleeping for 2 seconds\n",
      "Page 5\n"
     ]
    },
    {
     "data": {
      "text/plain": [
       "467"
      ]
     },
     "execution_count": 104,
     "metadata": {},
     "output_type": "execute_result"
    }
   ],
   "source": [
    "not_hot_0 = analyze_playlist(\"acclaimed music\", \"1G8IpkZKobrIlXcVPoSIuf\", 5)\n",
    "not_hot_0[\"ID\"].nunique()"
   ]
  },
  {
   "cell_type": "code",
   "execution_count": 105,
   "id": "2cc77339-3ac6-4811-8d7f-8a7f273cecc9",
   "metadata": {},
   "outputs": [
    {
     "data": {
      "text/plain": [
       "468"
      ]
     },
     "execution_count": 105,
     "metadata": {},
     "output_type": "execute_result"
    }
   ],
   "source": [
    "skip1 = not_hot_0[\"ID\"].nunique() + 1\n",
    "skip1"
   ]
  },
  {
   "cell_type": "code",
   "execution_count": 106,
   "id": "5dbb513d-cb26-4c64-9f45-877640015772",
   "metadata": {},
   "outputs": [
    {
     "name": "stdout",
     "output_type": "stream",
     "text": [
      "Page 1\n",
      "Sleeping for 1 seconds\n",
      "Page 2\n",
      "Sleeping for 1 seconds\n",
      "Page 3\n",
      "Sleeping for 1 seconds\n",
      "Page 4\n",
      "Sleeping for 1 seconds\n",
      "Page 5\n",
      "Sleeping for 1 seconds\n",
      "Page 6\n",
      "Sleeping for 1 seconds\n",
      "Page 7\n",
      "Sleeping for 1 seconds\n",
      "Page 8\n",
      "Sleeping for 1 seconds\n",
      "Page 9\n",
      "Sleeping for 1 seconds\n",
      "Page 10\n",
      "Sleeping for 1 seconds\n"
     ]
    },
    {
     "data": {
      "text/plain": [
       "1000"
      ]
     },
     "execution_count": 106,
     "metadata": {},
     "output_type": "execute_result"
    }
   ],
   "source": [
    "not_hot_1 = analyze_playlist(\"acclaimed music\", \"1G8IpkZKobrIlXcVPoSIuf\", 10, skip1)\n",
    "not_hot_1[\"ID\"].nunique()"
   ]
  },
  {
   "cell_type": "code",
   "execution_count": 107,
   "id": "d2ecea45-6861-4e2b-a73b-1008222d311c",
   "metadata": {},
   "outputs": [
    {
     "data": {
      "text/plain": [
       "1469"
      ]
     },
     "execution_count": 107,
     "metadata": {},
     "output_type": "execute_result"
    }
   ],
   "source": [
    "skip2 = skip1 + not_hot_1[\"ID\"].nunique() + 1\n",
    "skip2"
   ]
  },
  {
   "cell_type": "code",
   "execution_count": 108,
   "id": "634c5609-0355-47a1-b3f5-f88d29a046fe",
   "metadata": {},
   "outputs": [
    {
     "name": "stdout",
     "output_type": "stream",
     "text": [
      "Page 1\n",
      "Sleeping for 1 seconds\n",
      "Page 2\n",
      "Sleeping for 1 seconds\n",
      "Page 3\n",
      "Sleeping for 1 seconds\n",
      "Page 4\n",
      "Sleeping for 1 seconds\n",
      "Page 5\n",
      "Sleeping for 1 seconds\n",
      "Page 6\n",
      "Sleeping for 1 seconds\n",
      "Page 7\n",
      "Sleeping for 1 seconds\n",
      "Page 8\n",
      "Sleeping for 1 seconds\n",
      "Page 9\n",
      "Sleeping for 1 seconds\n",
      "Page 10\n",
      "Sleeping for 1 seconds\n"
     ]
    },
    {
     "data": {
      "text/plain": [
       "1000"
      ]
     },
     "execution_count": 108,
     "metadata": {},
     "output_type": "execute_result"
    }
   ],
   "source": [
    "not_hot_2 = analyze_playlist(\"acclaimed music\", \"1G8IpkZKobrIlXcVPoSIuf\", 10, skip2)\n",
    "not_hot_2[\"ID\"].nunique()"
   ]
  },
  {
   "cell_type": "code",
   "execution_count": 109,
   "id": "a79ffa6a-35b1-43fc-9225-c05f2dfb09a8",
   "metadata": {},
   "outputs": [
    {
     "data": {
      "text/plain": [
       "2470"
      ]
     },
     "execution_count": 109,
     "metadata": {},
     "output_type": "execute_result"
    }
   ],
   "source": [
    "skip3 = skip2 + not_hot_2[\"ID\"].nunique() + 1\n",
    "skip3"
   ]
  },
  {
   "cell_type": "code",
   "execution_count": 110,
   "id": "571fb5f5-dee4-4c75-a6e9-fa291651e163",
   "metadata": {},
   "outputs": [
    {
     "name": "stdout",
     "output_type": "stream",
     "text": [
      "Page 1\n",
      "Sleeping for 1 seconds\n",
      "Page 2\n"
     ]
    },
    {
     "data": {
      "text/plain": [
       "188"
      ]
     },
     "execution_count": 110,
     "metadata": {},
     "output_type": "execute_result"
    }
   ],
   "source": [
    "not_hot_3 = analyze_playlist(\"acclaimed music\", \"1G8IpkZKobrIlXcVPoSIuf\", 2, skip3)\n",
    "not_hot_3[\"ID\"].nunique()"
   ]
  },
  {
   "cell_type": "code",
   "execution_count": 111,
   "id": "321f2cba-d3e9-4c46-81d0-f12e836402d5",
   "metadata": {},
   "outputs": [
    {
     "data": {
      "text/plain": [
       "2659"
      ]
     },
     "execution_count": 111,
     "metadata": {},
     "output_type": "execute_result"
    }
   ],
   "source": [
    "skip4 = skip3 + not_hot_3[\"ID\"].nunique() + 1\n",
    "skip4"
   ]
  },
  {
   "cell_type": "code",
   "execution_count": 112,
   "id": "b669d553-3a62-40f0-b501-011e45c5d127",
   "metadata": {},
   "outputs": [
    {
     "name": "stdout",
     "output_type": "stream",
     "text": [
      "Page 1\n"
     ]
    },
    {
     "data": {
      "text/plain": [
       "12"
      ]
     },
     "execution_count": 112,
     "metadata": {},
     "output_type": "execute_result"
    }
   ],
   "source": [
    "not_hot_4 = analyze_playlist(\"acclaimed music\", \"1G8IpkZKobrIlXcVPoSIuf\", 1, skip4)\n",
    "not_hot_4[\"ID\"].nunique()"
   ]
  },
  {
   "cell_type": "code",
   "execution_count": 130,
   "id": "4251b6e1-8f39-42e6-8589-dff243e0d640",
   "metadata": {},
   "outputs": [
    {
     "data": {
      "text/plain": [
       "2672"
      ]
     },
     "execution_count": 130,
     "metadata": {},
     "output_type": "execute_result"
    }
   ],
   "source": [
    "skip5 = skip4 + not_hot_4[\"ID\"].nunique() + 1\n",
    "skip5"
   ]
  },
  {
   "cell_type": "code",
   "execution_count": 131,
   "id": "c63fa34a-09bd-412a-9b2c-bf4f7a9381b6",
   "metadata": {},
   "outputs": [
    {
     "name": "stdout",
     "output_type": "stream",
     "text": [
      "Page 1\n",
      "Sleeping for 1 seconds\n",
      "Page 2\n",
      "Sleeping for 1 seconds\n",
      "Page 3\n",
      "Sleeping for 1 seconds\n",
      "Page 4\n"
     ]
    },
    {
     "data": {
      "text/plain": [
       "307"
      ]
     },
     "execution_count": 131,
     "metadata": {},
     "output_type": "execute_result"
    }
   ],
   "source": [
    "not_hot_5 = analyze_playlist(\"acclaimed music\", \"1G8IpkZKobrIlXcVPoSIuf\", 4, skip5)\n",
    "not_hot_5[\"ID\"].nunique()"
   ]
  },
  {
   "cell_type": "code",
   "execution_count": 132,
   "id": "e3532920-8aaf-4623-8275-125a83b01886",
   "metadata": {},
   "outputs": [
    {
     "data": {
      "text/plain": [
       "2980"
      ]
     },
     "execution_count": 132,
     "metadata": {},
     "output_type": "execute_result"
    }
   ],
   "source": [
    "skip6 = skip5 + not_hot_5[\"ID\"].nunique() + 1\n",
    "skip6"
   ]
  },
  {
   "cell_type": "code",
   "execution_count": 134,
   "id": "cda75c7f-c697-4cc7-b992-de7855d27961",
   "metadata": {},
   "outputs": [
    {
     "name": "stdout",
     "output_type": "stream",
     "text": [
      "Page 1\n",
      "Sleeping for 1 seconds\n",
      "Page 2\n",
      "Sleeping for 1 seconds\n",
      "Page 3\n",
      "Sleeping for 1 seconds\n",
      "Page 4\n",
      "Sleeping for 1 seconds\n",
      "Page 5\n"
     ]
    },
    {
     "data": {
      "text/plain": [
       "407"
      ]
     },
     "execution_count": 134,
     "metadata": {},
     "output_type": "execute_result"
    }
   ],
   "source": [
    "not_hot_6 = analyze_playlist(\"acclaimed music\", \"1G8IpkZKobrIlXcVPoSIuf\", 5, skip6)\n",
    "not_hot_6[\"ID\"].nunique()"
   ]
  },
  {
   "cell_type": "code",
   "execution_count": 135,
   "id": "c1f6de42-3ce3-4558-b6c8-defbb47fd22e",
   "metadata": {},
   "outputs": [
    {
     "data": {
      "text/plain": [
       "3388"
      ]
     },
     "execution_count": 135,
     "metadata": {},
     "output_type": "execute_result"
    }
   ],
   "source": [
    "skip7 = skip6 + not_hot_6[\"ID\"].nunique() + 1\n",
    "skip7"
   ]
  },
  {
   "cell_type": "code",
   "execution_count": 138,
   "id": "f90fd1f2-8686-4c7f-923c-471f20dbc9cc",
   "metadata": {},
   "outputs": [
    {
     "name": "stdout",
     "output_type": "stream",
     "text": [
      "Page 1\n"
     ]
    },
    {
     "data": {
      "text/plain": [
       "82"
      ]
     },
     "execution_count": 138,
     "metadata": {},
     "output_type": "execute_result"
    }
   ],
   "source": [
    "not_hot_7 = analyze_playlist(\"acclaimed music\", \"1G8IpkZKobrIlXcVPoSIuf\", 1, skip7)\n",
    "not_hot_7[\"ID\"].nunique()"
   ]
  },
  {
   "cell_type": "code",
   "execution_count": 139,
   "id": "0fb9c21b-bf92-4da0-a3a6-b447f20abadb",
   "metadata": {},
   "outputs": [
    {
     "data": {
      "text/plain": [
       "3471"
      ]
     },
     "execution_count": 139,
     "metadata": {},
     "output_type": "execute_result"
    }
   ],
   "source": [
    "skip8 = skip7 + not_hot_7[\"ID\"].nunique() + 1\n",
    "skip8"
   ]
  },
  {
   "cell_type": "code",
   "execution_count": 140,
   "id": "eb34fbd0-bd7c-4bdd-857c-c08e5ea8180a",
   "metadata": {},
   "outputs": [
    {
     "name": "stdout",
     "output_type": "stream",
     "text": [
      "Page 1\n",
      "Sleeping for 1 seconds\n",
      "Page 2\n"
     ]
    },
    {
     "data": {
      "text/plain": [
       "169"
      ]
     },
     "execution_count": 140,
     "metadata": {},
     "output_type": "execute_result"
    }
   ],
   "source": [
    "not_hot_8 = analyze_playlist(\"acclaimed music\", \"1G8IpkZKobrIlXcVPoSIuf\", 2, skip8)\n",
    "not_hot_8[\"ID\"].nunique()"
   ]
  },
  {
   "cell_type": "code",
   "execution_count": 141,
   "id": "2d449d3a-0c5c-4128-b355-bcfc795f0d95",
   "metadata": {},
   "outputs": [
    {
     "data": {
      "text/plain": [
       "3641"
      ]
     },
     "execution_count": 141,
     "metadata": {},
     "output_type": "execute_result"
    }
   ],
   "source": [
    "skip9 = skip8 + not_hot_8[\"ID\"].nunique() + 1\n",
    "skip9"
   ]
  },
  {
   "cell_type": "code",
   "execution_count": 153,
   "id": "c79c7ef3-6f92-48d5-9e67-e99225dc1e25",
   "metadata": {},
   "outputs": [
    {
     "name": "stdout",
     "output_type": "stream",
     "text": [
      "Page 1\n"
     ]
    },
    {
     "data": {
      "text/plain": [
       "43"
      ]
     },
     "execution_count": 153,
     "metadata": {},
     "output_type": "execute_result"
    }
   ],
   "source": [
    "not_hot_9 = analyze_playlist(\"acclaimed music\", \"1G8IpkZKobrIlXcVPoSIuf\", 1, skip9)\n",
    "not_hot_9[\"ID\"].nunique()"
   ]
  },
  {
   "cell_type": "code",
   "execution_count": 150,
   "id": "708013cc-7848-4164-a455-3187e63c78bc",
   "metadata": {},
   "outputs": [
    {
     "data": {
      "text/html": [
       "<div>\n",
       "<style scoped>\n",
       "    .dataframe tbody tr th:only-of-type {\n",
       "        vertical-align: middle;\n",
       "    }\n",
       "\n",
       "    .dataframe tbody tr th {\n",
       "        vertical-align: top;\n",
       "    }\n",
       "\n",
       "    .dataframe thead th {\n",
       "        text-align: right;\n",
       "    }\n",
       "</style>\n",
       "<table border=\"1\" class=\"dataframe\">\n",
       "  <thead>\n",
       "    <tr style=\"text-align: right;\">\n",
       "      <th></th>\n",
       "      <th>Song</th>\n",
       "      <th>Artist</th>\n",
       "      <th>ID</th>\n",
       "      <th>Link</th>\n",
       "      <th>Danceability</th>\n",
       "      <th>Energy</th>\n",
       "      <th>Key</th>\n",
       "      <th>Loudness</th>\n",
       "      <th>Mode</th>\n",
       "      <th>Speechiness</th>\n",
       "      <th>Instrumentalness</th>\n",
       "      <th>Liveness</th>\n",
       "      <th>Valence</th>\n",
       "      <th>Tempo</th>\n",
       "      <th>Duration</th>\n",
       "      <th>Time Signature</th>\n",
       "    </tr>\n",
       "  </thead>\n",
       "  <tbody>\n",
       "    <tr>\n",
       "      <th>0</th>\n",
       "      <td>Like a Rolling Stone</td>\n",
       "      <td>Bob Dylan</td>\n",
       "      <td>3AhXZa8sUQht0UEdBJgpGc</td>\n",
       "      <td>https://open.spotify.com/track/3AhXZa8sUQht0UE...</td>\n",
       "      <td>0.482</td>\n",
       "      <td>0.721</td>\n",
       "      <td>0</td>\n",
       "      <td>-6.839</td>\n",
       "      <td>1</td>\n",
       "      <td>0.0321</td>\n",
       "      <td>0</td>\n",
       "      <td>0.189</td>\n",
       "      <td>0.557</td>\n",
       "      <td>95.263</td>\n",
       "      <td>369600</td>\n",
       "      <td>4</td>\n",
       "    </tr>\n",
       "    <tr>\n",
       "      <th>1</th>\n",
       "      <td>Smells Like Teen Spirit</td>\n",
       "      <td>Nirvana</td>\n",
       "      <td>3oTlkzk1OtrhH8wBAduVEi</td>\n",
       "      <td>https://open.spotify.com/track/3oTlkzk1OtrhH8w...</td>\n",
       "      <td>0.485</td>\n",
       "      <td>0.863</td>\n",
       "      <td>1</td>\n",
       "      <td>-9.027</td>\n",
       "      <td>1</td>\n",
       "      <td>0.0495</td>\n",
       "      <td>0.0162</td>\n",
       "      <td>0.138</td>\n",
       "      <td>0.767</td>\n",
       "      <td>116.835</td>\n",
       "      <td>300977</td>\n",
       "      <td>4</td>\n",
       "    </tr>\n",
       "    <tr>\n",
       "      <th>2</th>\n",
       "      <td>A Day In The Life - Remastered</td>\n",
       "      <td>The Beatles</td>\n",
       "      <td>3ZFBeIyP41HhnALjxWy1pR</td>\n",
       "      <td>https://open.spotify.com/track/3ZFBeIyP41HhnAL...</td>\n",
       "      <td>0.364</td>\n",
       "      <td>0.457</td>\n",
       "      <td>4</td>\n",
       "      <td>-14.162</td>\n",
       "      <td>0</td>\n",
       "      <td>0.0675</td>\n",
       "      <td>0.000106</td>\n",
       "      <td>0.922</td>\n",
       "      <td>0.175</td>\n",
       "      <td>163.219</td>\n",
       "      <td>337413</td>\n",
       "      <td>4</td>\n",
       "    </tr>\n",
       "    <tr>\n",
       "      <th>3</th>\n",
       "      <td>Good Vibrations (Mono)</td>\n",
       "      <td>The Beach Boys</td>\n",
       "      <td>5Qt4Cc66g24QWwGP3YYV9y</td>\n",
       "      <td>https://open.spotify.com/track/5Qt4Cc66g24QWwG...</td>\n",
       "      <td>0.398</td>\n",
       "      <td>0.413</td>\n",
       "      <td>1</td>\n",
       "      <td>-10.934</td>\n",
       "      <td>1</td>\n",
       "      <td>0.0388</td>\n",
       "      <td>0.000025</td>\n",
       "      <td>0.0891</td>\n",
       "      <td>0.331</td>\n",
       "      <td>133.574</td>\n",
       "      <td>219147</td>\n",
       "      <td>4</td>\n",
       "    </tr>\n",
       "    <tr>\n",
       "      <th>4</th>\n",
       "      <td>Johnny B Goode</td>\n",
       "      <td>Chuck Berry</td>\n",
       "      <td>7MH2ZclofPlTrZOkPzZKhK</td>\n",
       "      <td>https://open.spotify.com/track/7MH2ZclofPlTrZO...</td>\n",
       "      <td>0.518</td>\n",
       "      <td>0.756</td>\n",
       "      <td>10</td>\n",
       "      <td>-10.851</td>\n",
       "      <td>1</td>\n",
       "      <td>0.0915</td>\n",
       "      <td>0.000062</td>\n",
       "      <td>0.317</td>\n",
       "      <td>0.968</td>\n",
       "      <td>166.429</td>\n",
       "      <td>160893</td>\n",
       "      <td>4</td>\n",
       "    </tr>\n",
       "    <tr>\n",
       "      <th>...</th>\n",
       "      <td>...</td>\n",
       "      <td>...</td>\n",
       "      <td>...</td>\n",
       "      <td>...</td>\n",
       "      <td>...</td>\n",
       "      <td>...</td>\n",
       "      <td>...</td>\n",
       "      <td>...</td>\n",
       "      <td>...</td>\n",
       "      <td>...</td>\n",
       "      <td>...</td>\n",
       "      <td>...</td>\n",
       "      <td>...</td>\n",
       "      <td>...</td>\n",
       "      <td>...</td>\n",
       "      <td>...</td>\n",
       "    </tr>\n",
       "    <tr>\n",
       "      <th>38</th>\n",
       "      <td>I Don't Like</td>\n",
       "      <td>Chief Keef</td>\n",
       "      <td>1h6kgem1ai8vUgO1rZOwfB</td>\n",
       "      <td>https://open.spotify.com/track/1h6kgem1ai8vUgO...</td>\n",
       "      <td>0.742</td>\n",
       "      <td>0.844</td>\n",
       "      <td>2</td>\n",
       "      <td>-4.622</td>\n",
       "      <td>1</td>\n",
       "      <td>0.0479</td>\n",
       "      <td>0</td>\n",
       "      <td>0.0659</td>\n",
       "      <td>0.416</td>\n",
       "      <td>131.986</td>\n",
       "      <td>293840</td>\n",
       "      <td>4</td>\n",
       "    </tr>\n",
       "    <tr>\n",
       "      <th>39</th>\n",
       "      <td>Happy - From \"Despicable Me 2\"</td>\n",
       "      <td>Pharrell Williams</td>\n",
       "      <td>5b88tNINg4Q4nrRbrCXUmg</td>\n",
       "      <td>https://open.spotify.com/track/5b88tNINg4Q4nrR...</td>\n",
       "      <td>0.647</td>\n",
       "      <td>0.822</td>\n",
       "      <td>5</td>\n",
       "      <td>-4.662</td>\n",
       "      <td>0</td>\n",
       "      <td>0.183</td>\n",
       "      <td>0</td>\n",
       "      <td>0.0908</td>\n",
       "      <td>0.962</td>\n",
       "      <td>160.019</td>\n",
       "      <td>232720</td>\n",
       "      <td>4</td>\n",
       "    </tr>\n",
       "    <tr>\n",
       "      <th>40</th>\n",
       "      <td>Express Yourself - Remastered Version</td>\n",
       "      <td>Charles Wright &amp; The Watts 103rd Street Rhythm...</td>\n",
       "      <td>6gQZKkphKIMxZgca5r7ImA</td>\n",
       "      <td>https://open.spotify.com/track/6gQZKkphKIMxZgc...</td>\n",
       "      <td>0.461</td>\n",
       "      <td>0.818</td>\n",
       "      <td>8</td>\n",
       "      <td>-8.482</td>\n",
       "      <td>1</td>\n",
       "      <td>0.125</td>\n",
       "      <td>0</td>\n",
       "      <td>0.266</td>\n",
       "      <td>0.721</td>\n",
       "      <td>92.305</td>\n",
       "      <td>229653</td>\n",
       "      <td>4</td>\n",
       "    </tr>\n",
       "    <tr>\n",
       "      <th>41</th>\n",
       "      <td>Call Me The Breeze</td>\n",
       "      <td>J.J. Cale</td>\n",
       "      <td>0D4JiHE8NkSQa5ZdZkYYLw</td>\n",
       "      <td>https://open.spotify.com/track/0D4JiHE8NkSQa5Z...</td>\n",
       "      <td>0.815</td>\n",
       "      <td>0.415</td>\n",
       "      <td>11</td>\n",
       "      <td>-15.573</td>\n",
       "      <td>1</td>\n",
       "      <td>0.0384</td>\n",
       "      <td>0.012</td>\n",
       "      <td>0.0943</td>\n",
       "      <td>0.817</td>\n",
       "      <td>91.539</td>\n",
       "      <td>157617</td>\n",
       "      <td>4</td>\n",
       "    </tr>\n",
       "    <tr>\n",
       "      <th>42</th>\n",
       "      <td>People Who Died</td>\n",
       "      <td>The Jim Carroll Band</td>\n",
       "      <td>6taFIgW5YE94x1icBh5vTg</td>\n",
       "      <td>https://open.spotify.com/track/6taFIgW5YE94x1i...</td>\n",
       "      <td>0.315</td>\n",
       "      <td>0.635</td>\n",
       "      <td>5</td>\n",
       "      <td>-11.883</td>\n",
       "      <td>0</td>\n",
       "      <td>0.0681</td>\n",
       "      <td>0.000244</td>\n",
       "      <td>0.128</td>\n",
       "      <td>0.933</td>\n",
       "      <td>190.508</td>\n",
       "      <td>298613</td>\n",
       "      <td>4</td>\n",
       "    </tr>\n",
       "  </tbody>\n",
       "</table>\n",
       "<p>3675 rows × 16 columns</p>\n",
       "</div>"
      ],
      "text/plain": [
       "                                     Song  \\\n",
       "0                    Like a Rolling Stone   \n",
       "1                 Smells Like Teen Spirit   \n",
       "2          A Day In The Life - Remastered   \n",
       "3                  Good Vibrations (Mono)   \n",
       "4                          Johnny B Goode   \n",
       "..                                    ...   \n",
       "38                           I Don't Like   \n",
       "39         Happy - From \"Despicable Me 2\"   \n",
       "40  Express Yourself - Remastered Version   \n",
       "41                     Call Me The Breeze   \n",
       "42                        People Who Died   \n",
       "\n",
       "                                               Artist                      ID  \\\n",
       "0                                           Bob Dylan  3AhXZa8sUQht0UEdBJgpGc   \n",
       "1                                             Nirvana  3oTlkzk1OtrhH8wBAduVEi   \n",
       "2                                         The Beatles  3ZFBeIyP41HhnALjxWy1pR   \n",
       "3                                      The Beach Boys  5Qt4Cc66g24QWwGP3YYV9y   \n",
       "4                                         Chuck Berry  7MH2ZclofPlTrZOkPzZKhK   \n",
       "..                                                ...                     ...   \n",
       "38                                         Chief Keef  1h6kgem1ai8vUgO1rZOwfB   \n",
       "39                                  Pharrell Williams  5b88tNINg4Q4nrRbrCXUmg   \n",
       "40  Charles Wright & The Watts 103rd Street Rhythm...  6gQZKkphKIMxZgca5r7ImA   \n",
       "41                                          J.J. Cale  0D4JiHE8NkSQa5ZdZkYYLw   \n",
       "42                               The Jim Carroll Band  6taFIgW5YE94x1icBh5vTg   \n",
       "\n",
       "                                                 Link Danceability Energy Key  \\\n",
       "0   https://open.spotify.com/track/3AhXZa8sUQht0UE...        0.482  0.721   0   \n",
       "1   https://open.spotify.com/track/3oTlkzk1OtrhH8w...        0.485  0.863   1   \n",
       "2   https://open.spotify.com/track/3ZFBeIyP41HhnAL...        0.364  0.457   4   \n",
       "3   https://open.spotify.com/track/5Qt4Cc66g24QWwG...        0.398  0.413   1   \n",
       "4   https://open.spotify.com/track/7MH2ZclofPlTrZO...        0.518  0.756  10   \n",
       "..                                                ...          ...    ...  ..   \n",
       "38  https://open.spotify.com/track/1h6kgem1ai8vUgO...        0.742  0.844   2   \n",
       "39  https://open.spotify.com/track/5b88tNINg4Q4nrR...        0.647  0.822   5   \n",
       "40  https://open.spotify.com/track/6gQZKkphKIMxZgc...        0.461  0.818   8   \n",
       "41  https://open.spotify.com/track/0D4JiHE8NkSQa5Z...        0.815  0.415  11   \n",
       "42  https://open.spotify.com/track/6taFIgW5YE94x1i...        0.315  0.635   5   \n",
       "\n",
       "   Loudness Mode Speechiness Instrumentalness Liveness Valence    Tempo  \\\n",
       "0    -6.839    1      0.0321                0    0.189   0.557   95.263   \n",
       "1    -9.027    1      0.0495           0.0162    0.138   0.767  116.835   \n",
       "2   -14.162    0      0.0675         0.000106    0.922   0.175  163.219   \n",
       "3   -10.934    1      0.0388         0.000025   0.0891   0.331  133.574   \n",
       "4   -10.851    1      0.0915         0.000062    0.317   0.968  166.429   \n",
       "..      ...  ...         ...              ...      ...     ...      ...   \n",
       "38   -4.622    1      0.0479                0   0.0659   0.416  131.986   \n",
       "39   -4.662    0       0.183                0   0.0908   0.962  160.019   \n",
       "40   -8.482    1       0.125                0    0.266   0.721   92.305   \n",
       "41  -15.573    1      0.0384            0.012   0.0943   0.817   91.539   \n",
       "42  -11.883    0      0.0681         0.000244    0.128   0.933  190.508   \n",
       "\n",
       "   Duration Time Signature  \n",
       "0    369600              4  \n",
       "1    300977              4  \n",
       "2    337413              4  \n",
       "3    219147              4  \n",
       "4    160893              4  \n",
       "..      ...            ...  \n",
       "38   293840              4  \n",
       "39   232720              4  \n",
       "40   229653              4  \n",
       "41   157617              4  \n",
       "42   298613              4  \n",
       "\n",
       "[3675 rows x 16 columns]"
      ]
     },
     "execution_count": 150,
     "metadata": {},
     "output_type": "execute_result"
    }
   ],
   "source": [
    "not_hot = pd.concat([not_hot_0, not_hot_1, not_hot_2, not_hot_3, not_hot_4, not_hot_5, not_hot_6, not_hot_7, not_hot_8, not_hot_9])\n",
    "not_hot"
   ]
  },
  {
   "cell_type": "code",
   "execution_count": 151,
   "id": "3b0f045f-8555-45a8-87f3-26da3c21aeea",
   "metadata": {},
   "outputs": [
    {
     "data": {
      "text/plain": [
       "3675"
      ]
     },
     "execution_count": 151,
     "metadata": {},
     "output_type": "execute_result"
    }
   ],
   "source": [
    "not_hot[\"ID\"].nunique()"
   ]
  },
  {
   "cell_type": "code",
   "execution_count": 152,
   "id": "55b75144-d3f8-42d1-a892-6341c49f214d",
   "metadata": {},
   "outputs": [],
   "source": [
    "not_hot.to_csv(\"Not_Hot.csv\")"
   ]
  },
  {
   "cell_type": "markdown",
   "id": "21408380-1043-463c-afe6-b3db37d5be9b",
   "metadata": {},
   "source": [
    "### Function to get the other 4900 songs"
   ]
  },
  {
   "cell_type": "code",
   "execution_count": null,
   "id": "3698c4ad-0b3b-46fc-8f9f-819b24647601",
   "metadata": {
    "collapsed": true,
    "jupyter": {
     "outputs_hidden": true,
     "source_hidden": true
    },
    "tags": []
   },
   "outputs": [
    {
     "data": {
      "text/html": [
       "<div>\n",
       "<style scoped>\n",
       "    .dataframe tbody tr th:only-of-type {\n",
       "        vertical-align: middle;\n",
       "    }\n",
       "\n",
       "    .dataframe tbody tr th {\n",
       "        vertical-align: top;\n",
       "    }\n",
       "\n",
       "    .dataframe thead th {\n",
       "        text-align: right;\n",
       "    }\n",
       "</style>\n",
       "<table border=\"1\" class=\"dataframe\">\n",
       "  <thead>\n",
       "    <tr style=\"text-align: right;\">\n",
       "      <th></th>\n",
       "      <th>Songs</th>\n",
       "      <th>Artists</th>\n",
       "    </tr>\n",
       "  </thead>\n",
       "  <tbody>\n",
       "    <tr>\n",
       "      <th>0</th>\n",
       "      <td>Heroin</td>\n",
       "      <td>The Velvet Underground</td>\n",
       "    </tr>\n",
       "    <tr>\n",
       "      <th>1</th>\n",
       "      <td>Whole Lotta Shakin' Goin' On</td>\n",
       "      <td>Jerry Lee Lewis</td>\n",
       "    </tr>\n",
       "    <tr>\n",
       "      <th>2</th>\n",
       "      <td>Thunder Road</td>\n",
       "      <td>Bruce Springsteen</td>\n",
       "    </tr>\n",
       "    <tr>\n",
       "      <th>3</th>\n",
       "      <td>One</td>\n",
       "      <td>U2</td>\n",
       "    </tr>\n",
       "    <tr>\n",
       "      <th>4</th>\n",
       "      <td>I'm Waiting For The Man - Album Version (Stereo)</td>\n",
       "      <td>The Velvet Underground</td>\n",
       "    </tr>\n",
       "    <tr>\n",
       "      <th>...</th>\n",
       "      <td>...</td>\n",
       "      <td>...</td>\n",
       "    </tr>\n",
       "    <tr>\n",
       "      <th>4895</th>\n",
       "      <td>Ms. Jackson</td>\n",
       "      <td>Outkast</td>\n",
       "    </tr>\n",
       "    <tr>\n",
       "      <th>4896</th>\n",
       "      <td>Walk on By</td>\n",
       "      <td>Dionne Warwick</td>\n",
       "    </tr>\n",
       "    <tr>\n",
       "      <th>4897</th>\n",
       "      <td>Folsom Prison Blues</td>\n",
       "      <td>Johnny Cash</td>\n",
       "    </tr>\n",
       "    <tr>\n",
       "      <th>4898</th>\n",
       "      <td>Sign 'O' the Times - Single Version</td>\n",
       "      <td>Prince</td>\n",
       "    </tr>\n",
       "    <tr>\n",
       "      <th>4899</th>\n",
       "      <td>bad guy</td>\n",
       "      <td>Billie Eilish</td>\n",
       "    </tr>\n",
       "  </tbody>\n",
       "</table>\n",
       "<p>4900 rows × 2 columns</p>\n",
       "</div>"
      ],
      "text/plain": [
       "                                                 Songs                 Artists\n",
       "0                                               Heroin  The Velvet Underground\n",
       "1                         Whole Lotta Shakin' Goin' On         Jerry Lee Lewis\n",
       "2                                         Thunder Road       Bruce Springsteen\n",
       "3                                                  One                      U2\n",
       "4     I'm Waiting For The Man - Album Version (Stereo)  The Velvet Underground\n",
       "...                                                ...                     ...\n",
       "4895                                       Ms. Jackson                 Outkast\n",
       "4896                                        Walk on By          Dionne Warwick\n",
       "4897                               Folsom Prison Blues             Johnny Cash\n",
       "4898               Sign 'O' the Times - Single Version                  Prince\n",
       "4899                                           bad guy           Billie Eilish\n",
       "\n",
       "[4900 rows x 2 columns]"
      ]
     },
     "execution_count": 310,
     "metadata": {},
     "output_type": "execute_result"
    }
   ],
   "source": [
    "results = sp.playlist_items(\"1G8IpkZKobrIlXcVPoSIuf\")\n",
    "next_pages = 49\n",
    "artists = []\n",
    "songs = []\n",
    "\n",
    "for i in range(next_pages):\n",
    "    tracks = sp.next(results)\n",
    "    for y in range(0,100):\n",
    "        try:\n",
    "            track = tracks['items'][y]['track']['name']\n",
    "            songs.append(track)\n",
    "            artist = tracks['items'][y]['track']['artists'][0]['name']\n",
    "            artists.append(artist)\n",
    "        except:\n",
    "            continue\n",
    "\n",
    "df = pd.DataFrame({\"Songs\":songs, \"Artists\":artists})          \n",
    "df"
   ]
  },
  {
   "cell_type": "markdown",
   "id": "931d0197-456e-418a-b7d2-5a9dd77c4b7d",
   "metadata": {},
   "source": [
    "### Concat and save"
   ]
  },
  {
   "cell_type": "code",
   "execution_count": 313,
   "id": "dbb9accc-0994-4660-97c2-feacbe02697d",
   "metadata": {
    "collapsed": true,
    "jupyter": {
     "outputs_hidden": true
    },
    "tags": []
   },
   "outputs": [
    {
     "data": {
      "text/html": [
       "<div>\n",
       "<style scoped>\n",
       "    .dataframe tbody tr th:only-of-type {\n",
       "        vertical-align: middle;\n",
       "    }\n",
       "\n",
       "    .dataframe tbody tr th {\n",
       "        vertical-align: top;\n",
       "    }\n",
       "\n",
       "    .dataframe thead th {\n",
       "        text-align: right;\n",
       "    }\n",
       "</style>\n",
       "<table border=\"1\" class=\"dataframe\">\n",
       "  <thead>\n",
       "    <tr style=\"text-align: right;\">\n",
       "      <th></th>\n",
       "      <th>Songs</th>\n",
       "      <th>Artists</th>\n",
       "    </tr>\n",
       "  </thead>\n",
       "  <tbody>\n",
       "    <tr>\n",
       "      <th>0</th>\n",
       "      <td>Like a Rolling Stone</td>\n",
       "      <td>Bob Dylan</td>\n",
       "    </tr>\n",
       "    <tr>\n",
       "      <th>1</th>\n",
       "      <td>Smells Like Teen Spirit</td>\n",
       "      <td>Nirvana</td>\n",
       "    </tr>\n",
       "    <tr>\n",
       "      <th>2</th>\n",
       "      <td>A Day In The Life - Remastered</td>\n",
       "      <td>The Beatles</td>\n",
       "    </tr>\n",
       "    <tr>\n",
       "      <th>3</th>\n",
       "      <td>Good Vibrations (Mono)</td>\n",
       "      <td>The Beach Boys</td>\n",
       "    </tr>\n",
       "    <tr>\n",
       "      <th>4</th>\n",
       "      <td>Johnny B Goode</td>\n",
       "      <td>Chuck Berry</td>\n",
       "    </tr>\n",
       "    <tr>\n",
       "      <th>...</th>\n",
       "      <td>...</td>\n",
       "      <td>...</td>\n",
       "    </tr>\n",
       "    <tr>\n",
       "      <th>4995</th>\n",
       "      <td>Ms. Jackson</td>\n",
       "      <td>Outkast</td>\n",
       "    </tr>\n",
       "    <tr>\n",
       "      <th>4996</th>\n",
       "      <td>Walk on By</td>\n",
       "      <td>Dionne Warwick</td>\n",
       "    </tr>\n",
       "    <tr>\n",
       "      <th>4997</th>\n",
       "      <td>Folsom Prison Blues</td>\n",
       "      <td>Johnny Cash</td>\n",
       "    </tr>\n",
       "    <tr>\n",
       "      <th>4998</th>\n",
       "      <td>Sign 'O' the Times - Single Version</td>\n",
       "      <td>Prince</td>\n",
       "    </tr>\n",
       "    <tr>\n",
       "      <th>4999</th>\n",
       "      <td>bad guy</td>\n",
       "      <td>Billie Eilish</td>\n",
       "    </tr>\n",
       "  </tbody>\n",
       "</table>\n",
       "<p>5000 rows × 2 columns</p>\n",
       "</div>"
      ],
      "text/plain": [
       "                                    Songs         Artists\n",
       "0                    Like a Rolling Stone       Bob Dylan\n",
       "1                 Smells Like Teen Spirit         Nirvana\n",
       "2          A Day In The Life - Remastered     The Beatles\n",
       "3                  Good Vibrations (Mono)  The Beach Boys\n",
       "4                          Johnny B Goode     Chuck Berry\n",
       "...                                   ...             ...\n",
       "4995                          Ms. Jackson         Outkast\n",
       "4996                           Walk on By  Dionne Warwick\n",
       "4997                  Folsom Prison Blues     Johnny Cash\n",
       "4998  Sign 'O' the Times - Single Version          Prince\n",
       "4999                              bad guy   Billie Eilish\n",
       "\n",
       "[5000 rows x 2 columns]"
      ]
     },
     "execution_count": 313,
     "metadata": {},
     "output_type": "execute_result"
    }
   ],
   "source": [
    "not_hot = pd.concat([not_hot, df], ignore_index = True)\n",
    "not_hot"
   ]
  },
  {
   "cell_type": "code",
   "execution_count": 185,
   "id": "3702d07c-c8d9-40d2-bf8c-1cf20250cbeb",
   "metadata": {},
   "outputs": [],
   "source": [
    "def search_song():\n",
    "    print(\"Please write a song name:\")\n",
    "    song = input()\n",
    "    results = sp.search(q=song, limit = 5)\n",
    "    for track in results[\"tracks\"][\"items\"]:\n",
    "        print(\"Song:\",track[\"name\"])\n",
    "        print(\"Artist:\",track[\"artists\"][0][\"name\"])\n",
    "        print(\"Album:\",track[\"album\"][\"name\"])\n",
    "        print(\"\\n\")"
   ]
  },
  {
   "cell_type": "code",
   "execution_count": 187,
   "id": "bca815f5-649f-4d13-91d5-fc4a1621430f",
   "metadata": {},
   "outputs": [
    {
     "name": "stdout",
     "output_type": "stream",
     "text": [
      "Please write a song name:\n"
     ]
    },
    {
     "name": "stdin",
     "output_type": "stream",
     "text": [
      " Californication\n"
     ]
    },
    {
     "name": "stdout",
     "output_type": "stream",
     "text": [
      "Song: Californication\n",
      "Artist: Red Hot Chili Peppers\n",
      "Album: Californication (Deluxe Edition)\n",
      "\n",
      "\n",
      "Song: Californication\n",
      "Artist: LAV8\n",
      "Album: Covers Collection (Vol. 3)\n",
      "\n",
      "\n",
      "Song: Scar Tissue\n",
      "Artist: Red Hot Chili Peppers\n",
      "Album: Californication (Deluxe Edition)\n",
      "\n",
      "\n",
      "Song: Californication - Remix\n",
      "Artist: Merkules\n",
      "Album: Californication (Remix)\n",
      "\n",
      "\n",
      "Song: Californication (Feels Like I'm Falling In Love)\n",
      "Artist: Col3trane\n",
      "Album: Lush Life\n",
      "\n",
      "\n"
     ]
    }
   ],
   "source": [
    "search_song()"
   ]
  },
  {
   "cell_type": "code",
   "execution_count": null,
   "id": "387287bc-0e60-47e6-bdc7-291a4bae186e",
   "metadata": {},
   "outputs": [
    {
     "data": {
      "text/plain": [
       "dict_keys(['album', 'artists', 'available_markets', 'disc_number', 'duration_ms', 'explicit', 'external_ids', 'external_urls', 'href', 'id', 'is_local', 'name', 'popularity', 'preview_url', 'track_number', 'type', 'uri'])"
      ]
     },
     "execution_count": 177,
     "metadata": {},
     "output_type": "execute_result"
    }
   ],
   "source": [
    "song[\"tracks\"][\"items\"][0].keys()"
   ]
  },
  {
   "cell_type": "code",
   "execution_count": 188,
   "id": "e6df46f4-8859-4385-8fae-bc71bc8b481e",
   "metadata": {},
   "outputs": [
    {
     "data": {
      "text/plain": [
       "'0UuNO0yYvsMPlyLF7RfQlg'"
      ]
     },
     "execution_count": 188,
     "metadata": {},
     "output_type": "execute_result"
    }
   ],
   "source": [
    "song[\"tracks\"][\"items\"][0][\"id\"]"
   ]
  }
 ],
 "metadata": {
  "kernelspec": {
   "display_name": "Python 3 (ipykernel)",
   "language": "python",
   "name": "python3"
  },
  "language_info": {
   "codemirror_mode": {
    "name": "ipython",
    "version": 3
   },
   "file_extension": ".py",
   "mimetype": "text/x-python",
   "name": "python",
   "nbconvert_exporter": "python",
   "pygments_lexer": "ipython3",
   "version": "3.9.12"
  }
 },
 "nbformat": 4,
 "nbformat_minor": 5
}
